{
 "cells": [
  {
   "cell_type": "markdown",
   "id": "8ce2edfb",
   "metadata": {},
   "source": [
    "## Correlation matrices and eigenvalues of merged per-log dataframes:"
   ]
  },
  {
   "cell_type": "markdown",
   "id": "83c5c12c",
   "metadata": {},
   "source": [
    "### TODO: Still need to get energy numbers + eigenvalues of corr_matrix of per-us dataframes"
   ]
  },
  {
   "cell_type": "code",
   "execution_count": 29,
   "id": "8d6be82c",
   "metadata": {},
   "outputs": [],
   "source": [
    "import os\n",
    "import pandas as pd\n",
    "from numpy.linalg import eig, eigvalsh\n",
    "\n",
    "import eigen_analysis"
   ]
  },
  {
   "cell_type": "code",
   "execution_count": 34,
   "id": "9d03f9ec",
   "metadata": {},
   "outputs": [],
   "source": [
    "def get_latencies(out_fname):\n",
    "    with open(out_fname, 'r') as f:\n",
    "        lines = f.readlines()\n",
    "    header = lines[0].rstrip('\\n').split()\n",
    "    read_lat = lines[1].rstrip('\\n').split()\n",
    "    lat = {'read': dict(zip(header[1:], [float(y) for y in read_lat[1:]]))}\n",
    "\n",
    "    return lat['read']"
   ]
  },
  {
   "cell_type": "code",
   "execution_count": 38,
   "id": "320daaef",
   "metadata": {
    "scrolled": true
   },
   "outputs": [
    {
     "name": "stdout",
     "output_type": "stream",
     "text": [
      "ITR_DELAY:  2\n",
      "ITR_DELAY:  20\n",
      "ITR_DELAY:  300\n",
      "ITR_DELAY:  200\n",
      "ITR_DELAY:  250\n",
      "ITR_DELAY:  40\n",
      "ITR_DELAY:  30\n",
      "ITR_DELAY:  400\n",
      "ITR_DELAY:  50\n",
      "ITR_DELAY:  10\n",
      "ITR_DELAY:  350\n",
      "ITR_DELAY:  100\n"
     ]
    }
   ],
   "source": [
    "corr_itr_list = {}\n",
    "\n",
    "all_itr_dir = '200k_0xd00_merged_per_core_dfs/'\n",
    "rapl = '135'\n",
    "run = '0'\n",
    "qps = all_itr_dir.split('_')[0]\n",
    "dvfs = all_itr_dir.split('_')[1]\n",
    "\n",
    "for file in os.listdir(all_itr_dir):\n",
    "    itr = file.split('_')[2]\n",
    "    print('ITR_DELAY: ', itr)\n",
    "    df = pd.read_csv(all_itr_dir + file, sep = ',')\n",
    "    df = df.drop(df.columns[0], axis=1)\n",
    "    df_corr = df.corr()\n",
    "    corr_itr_list[itr] = df_corr"
   ]
  },
  {
   "cell_type": "code",
   "execution_count": 70,
   "id": "d68c9b20",
   "metadata": {
    "scrolled": true
   },
   "outputs": [],
   "source": [
    "eig_itr_list = {}\n",
    "\n",
    "for itr in corr_itr_list.keys():\n",
    "    df_corr = corr_itr_list[itr]\n",
    "    vals, vecs = eig(df_corr)\n",
    "    i = 0\n",
    "    vals_dict = {}\n",
    "    for val in vals:\n",
    "        if val <= 0:\n",
    "            print('EIGENVAL <= 0')\n",
    "        vals_dict['eig_' + str(i)] = val\n",
    "        i += 1\n",
    "    eig_itr_list[itr] = vals_dict"
   ]
  },
  {
   "cell_type": "code",
   "execution_count": 72,
   "id": "b1b86405",
   "metadata": {},
   "outputs": [],
   "source": [
    "#eig_itr_list"
   ]
  },
  {
   "cell_type": "code",
   "execution_count": 73,
   "id": "2a09ad36",
   "metadata": {},
   "outputs": [],
   "source": [
    "lat_itr_list = {}\n",
    "lat_dir = '200k_qps/linux_mcd_out_0_0xd00_135_200k/'\n",
    "\n",
    "for itr in corr_itr_list.keys():\n",
    "    lat_file = lat_dir + 'linux.mcd.out.0_' + str(itr) + '_0xd00_135_200000'\n",
    "    latencies = get_latencies(lat_file)\n",
    "    lat_itr_list[itr] = latencies"
   ]
  },
  {
   "cell_type": "code",
   "execution_count": 74,
   "id": "5b018e8f",
   "metadata": {
    "scrolled": false
   },
   "outputs": [],
   "source": [
    "#lat_itr_list"
   ]
  },
  {
   "cell_type": "code",
   "execution_count": 75,
   "id": "8806dd55",
   "metadata": {
    "scrolled": true
   },
   "outputs": [
    {
     "name": "stdout",
     "output_type": "stream",
     "text": [
      "['avg', 'std', 'min', '5th', '10th', '50th', '90th', '95th', '99th']\n"
     ]
    }
   ],
   "source": [
    "lat_columns = []\n",
    "for itr in list(lat_itr_list.keys())[0]:\n",
    "    lat_columns = list(lat_itr_list[itr].keys())\n",
    "    \n",
    "print(lat_columns)"
   ]
  },
  {
   "cell_type": "code",
   "execution_count": 76,
   "id": "a62b3d0d",
   "metadata": {
    "scrolled": true
   },
   "outputs": [
    {
     "name": "stdout",
     "output_type": "stream",
     "text": [
      "['eig_0', 'eig_1', 'eig_2', 'eig_3', 'eig_4']\n"
     ]
    }
   ],
   "source": [
    "eig_columns = []\n",
    "for itr in list(eig_itr_list.keys())[0]:\n",
    "    eig_columns = list(eig_itr_list[itr].keys())\n",
    "\n",
    "print(eig_columns)"
   ]
  },
  {
   "cell_type": "code",
   "execution_count": 77,
   "id": "28f4f85d",
   "metadata": {},
   "outputs": [
    {
     "name": "stdout",
     "output_type": "stream",
     "text": [
      "['avg', 'std', 'min', '5th', '10th', '50th', '90th', '95th', '99th', 'eig_0', 'eig_1', 'eig_2', 'eig_3', 'eig_4', 'desc']\n"
     ]
    }
   ],
   "source": [
    "all_cols = lat_columns + eig_columns\n",
    "all_cols.append('desc')\n",
    "print(all_cols)"
   ]
  },
  {
   "cell_type": "code",
   "execution_count": 80,
   "id": "3deb8019",
   "metadata": {},
   "outputs": [],
   "source": [
    "eig_lat_energy_df = pd.DataFrame(columns=lat_columns + eig_columns)\n",
    "\n",
    "for itr in corr_itr_list.keys():\n",
    "    desc = run + '_' + itr + '_' + dvfs + '_' + rapl + '_' + qps\n",
    "    new_row = {}\n",
    "    for p in lat_columns:\n",
    "        new_row[p] = lat_itr_list[itr][p]\n",
    "    for e in eig_columns:\n",
    "        new_row[e] = eig_itr_list[itr][e]\n",
    "    new_row['desc'] = desc\n",
    "    eig_lat_energy_df = eig_lat_energy_df._append(new_row, ignore_index = True)"
   ]
  },
  {
   "cell_type": "code",
   "execution_count": 81,
   "id": "96a4890a",
   "metadata": {},
   "outputs": [
    {
     "data": {
      "text/html": [
       "<div>\n",
       "<style scoped>\n",
       "    .dataframe tbody tr th:only-of-type {\n",
       "        vertical-align: middle;\n",
       "    }\n",
       "\n",
       "    .dataframe tbody tr th {\n",
       "        vertical-align: top;\n",
       "    }\n",
       "\n",
       "    .dataframe thead th {\n",
       "        text-align: right;\n",
       "    }\n",
       "</style>\n",
       "<table border=\"1\" class=\"dataframe\">\n",
       "  <thead>\n",
       "    <tr style=\"text-align: right;\">\n",
       "      <th></th>\n",
       "      <th>avg</th>\n",
       "      <th>std</th>\n",
       "      <th>min</th>\n",
       "      <th>5th</th>\n",
       "      <th>10th</th>\n",
       "      <th>50th</th>\n",
       "      <th>90th</th>\n",
       "      <th>95th</th>\n",
       "      <th>99th</th>\n",
       "      <th>eig_0</th>\n",
       "      <th>eig_1</th>\n",
       "      <th>eig_2</th>\n",
       "      <th>eig_3</th>\n",
       "      <th>eig_4</th>\n",
       "      <th>desc</th>\n",
       "    </tr>\n",
       "  </thead>\n",
       "  <tbody>\n",
       "    <tr>\n",
       "      <th>0</th>\n",
       "      <td>71.3</td>\n",
       "      <td>17.4</td>\n",
       "      <td>41.1</td>\n",
       "      <td>55.1</td>\n",
       "      <td>56.2</td>\n",
       "      <td>66.2</td>\n",
       "      <td>93.0</td>\n",
       "      <td>104.9</td>\n",
       "      <td>134.4</td>\n",
       "      <td>3.437880</td>\n",
       "      <td>0.957107</td>\n",
       "      <td>0.485085</td>\n",
       "      <td>0.119927</td>\n",
       "      <td>8.150684e-08</td>\n",
       "      <td>0_2_0xd00_135_200k</td>\n",
       "    </tr>\n",
       "    <tr>\n",
       "      <th>1</th>\n",
       "      <td>74.0</td>\n",
       "      <td>14.6</td>\n",
       "      <td>49.8</td>\n",
       "      <td>57.1</td>\n",
       "      <td>59.7</td>\n",
       "      <td>71.1</td>\n",
       "      <td>92.8</td>\n",
       "      <td>102.1</td>\n",
       "      <td>124.4</td>\n",
       "      <td>3.479148</td>\n",
       "      <td>0.930026</td>\n",
       "      <td>0.466559</td>\n",
       "      <td>0.124266</td>\n",
       "      <td>2.093437e-08</td>\n",
       "      <td>0_20_0xd00_135_200k</td>\n",
       "    </tr>\n",
       "    <tr>\n",
       "      <th>2</th>\n",
       "      <td>237.6</td>\n",
       "      <td>85.6</td>\n",
       "      <td>49.8</td>\n",
       "      <td>101.1</td>\n",
       "      <td>119.6</td>\n",
       "      <td>240.1</td>\n",
       "      <td>351.6</td>\n",
       "      <td>367.0</td>\n",
       "      <td>401.8</td>\n",
       "      <td>3.380390</td>\n",
       "      <td>0.991840</td>\n",
       "      <td>0.532754</td>\n",
       "      <td>0.094445</td>\n",
       "      <td>5.714871e-04</td>\n",
       "      <td>0_300_0xd00_135_200k</td>\n",
       "    </tr>\n",
       "    <tr>\n",
       "      <th>3</th>\n",
       "      <td>179.3</td>\n",
       "      <td>57.8</td>\n",
       "      <td>45.3</td>\n",
       "      <td>86.6</td>\n",
       "      <td>100.6</td>\n",
       "      <td>180.9</td>\n",
       "      <td>256.3</td>\n",
       "      <td>270.5</td>\n",
       "      <td>297.3</td>\n",
       "      <td>3.369317</td>\n",
       "      <td>0.974018</td>\n",
       "      <td>0.543048</td>\n",
       "      <td>0.112937</td>\n",
       "      <td>6.809913e-04</td>\n",
       "      <td>0_200_0xd00_135_200k</td>\n",
       "    </tr>\n",
       "    <tr>\n",
       "      <th>4</th>\n",
       "      <td>208.2</td>\n",
       "      <td>71.6</td>\n",
       "      <td>54.8</td>\n",
       "      <td>94.3</td>\n",
       "      <td>110.5</td>\n",
       "      <td>208.9</td>\n",
       "      <td>303.0</td>\n",
       "      <td>322.5</td>\n",
       "      <td>354.3</td>\n",
       "      <td>3.419246</td>\n",
       "      <td>0.984261</td>\n",
       "      <td>0.485820</td>\n",
       "      <td>0.110002</td>\n",
       "      <td>6.702868e-04</td>\n",
       "      <td>0_250_0xd00_135_200k</td>\n",
       "    </tr>\n",
       "    <tr>\n",
       "      <th>5</th>\n",
       "      <td>81.8</td>\n",
       "      <td>17.0</td>\n",
       "      <td>45.3</td>\n",
       "      <td>58.8</td>\n",
       "      <td>61.6</td>\n",
       "      <td>79.8</td>\n",
       "      <td>104.5</td>\n",
       "      <td>112.7</td>\n",
       "      <td>130.8</td>\n",
       "      <td>3.351228</td>\n",
       "      <td>0.944285</td>\n",
       "      <td>0.575131</td>\n",
       "      <td>0.129355</td>\n",
       "      <td>1.406585e-08</td>\n",
       "      <td>0_40_0xd00_135_200k</td>\n",
       "    </tr>\n",
       "    <tr>\n",
       "      <th>6</th>\n",
       "      <td>76.9</td>\n",
       "      <td>15.5</td>\n",
       "      <td>41.1</td>\n",
       "      <td>57.5</td>\n",
       "      <td>60.4</td>\n",
       "      <td>74.8</td>\n",
       "      <td>96.6</td>\n",
       "      <td>105.4</td>\n",
       "      <td>126.9</td>\n",
       "      <td>3.416435</td>\n",
       "      <td>0.961143</td>\n",
       "      <td>0.489520</td>\n",
       "      <td>0.132902</td>\n",
       "      <td>3.800894e-08</td>\n",
       "      <td>0_30_0xd00_135_200k</td>\n",
       "    </tr>\n",
       "    <tr>\n",
       "      <th>7</th>\n",
       "      <td>292.5</td>\n",
       "      <td>113.5</td>\n",
       "      <td>49.8</td>\n",
       "      <td>111.7</td>\n",
       "      <td>135.7</td>\n",
       "      <td>294.9</td>\n",
       "      <td>442.9</td>\n",
       "      <td>471.3</td>\n",
       "      <td>515.1</td>\n",
       "      <td>3.436523</td>\n",
       "      <td>0.992430</td>\n",
       "      <td>0.473820</td>\n",
       "      <td>0.096801</td>\n",
       "      <td>4.257090e-04</td>\n",
       "      <td>0_400_0xd00_135_200k</td>\n",
       "    </tr>\n",
       "    <tr>\n",
       "      <th>8</th>\n",
       "      <td>87.9</td>\n",
       "      <td>19.3</td>\n",
       "      <td>45.3</td>\n",
       "      <td>60.9</td>\n",
       "      <td>63.5</td>\n",
       "      <td>86.5</td>\n",
       "      <td>113.4</td>\n",
       "      <td>120.7</td>\n",
       "      <td>140.1</td>\n",
       "      <td>3.247200</td>\n",
       "      <td>0.975741</td>\n",
       "      <td>0.635845</td>\n",
       "      <td>0.141214</td>\n",
       "      <td>1.210419e-07</td>\n",
       "      <td>0_50_0xd00_135_200k</td>\n",
       "    </tr>\n",
       "    <tr>\n",
       "      <th>9</th>\n",
       "      <td>72.4</td>\n",
       "      <td>14.7</td>\n",
       "      <td>45.3</td>\n",
       "      <td>56.4</td>\n",
       "      <td>58.3</td>\n",
       "      <td>68.4</td>\n",
       "      <td>91.1</td>\n",
       "      <td>101.7</td>\n",
       "      <td>125.3</td>\n",
       "      <td>4.996039</td>\n",
       "      <td>0.002492</td>\n",
       "      <td>0.001076</td>\n",
       "      <td>0.000393</td>\n",
       "      <td>5.770076e-11</td>\n",
       "      <td>0_10_0xd00_135_200k</td>\n",
       "    </tr>\n",
       "    <tr>\n",
       "      <th>10</th>\n",
       "      <td>261.9</td>\n",
       "      <td>99.3</td>\n",
       "      <td>49.8</td>\n",
       "      <td>104.4</td>\n",
       "      <td>125.4</td>\n",
       "      <td>263.9</td>\n",
       "      <td>393.9</td>\n",
       "      <td>417.7</td>\n",
       "      <td>449.1</td>\n",
       "      <td>4.866648</td>\n",
       "      <td>0.120729</td>\n",
       "      <td>0.010646</td>\n",
       "      <td>0.001944</td>\n",
       "      <td>3.324430e-05</td>\n",
       "      <td>0_350_0xd00_135_200k</td>\n",
       "    </tr>\n",
       "    <tr>\n",
       "      <th>11</th>\n",
       "      <td>117.1</td>\n",
       "      <td>31.0</td>\n",
       "      <td>49.8</td>\n",
       "      <td>67.1</td>\n",
       "      <td>74.9</td>\n",
       "      <td>117.1</td>\n",
       "      <td>157.6</td>\n",
       "      <td>167.5</td>\n",
       "      <td>185.0</td>\n",
       "      <td>3.334992</td>\n",
       "      <td>0.965827</td>\n",
       "      <td>0.591491</td>\n",
       "      <td>0.107633</td>\n",
       "      <td>5.726498e-05</td>\n",
       "      <td>0_100_0xd00_135_200k</td>\n",
       "    </tr>\n",
       "  </tbody>\n",
       "</table>\n",
       "</div>"
      ],
      "text/plain": [
       "      avg    std   min    5th   10th   50th   90th   95th   99th     eig_0  \\\n",
       "0    71.3   17.4  41.1   55.1   56.2   66.2   93.0  104.9  134.4  3.437880   \n",
       "1    74.0   14.6  49.8   57.1   59.7   71.1   92.8  102.1  124.4  3.479148   \n",
       "2   237.6   85.6  49.8  101.1  119.6  240.1  351.6  367.0  401.8  3.380390   \n",
       "3   179.3   57.8  45.3   86.6  100.6  180.9  256.3  270.5  297.3  3.369317   \n",
       "4   208.2   71.6  54.8   94.3  110.5  208.9  303.0  322.5  354.3  3.419246   \n",
       "5    81.8   17.0  45.3   58.8   61.6   79.8  104.5  112.7  130.8  3.351228   \n",
       "6    76.9   15.5  41.1   57.5   60.4   74.8   96.6  105.4  126.9  3.416435   \n",
       "7   292.5  113.5  49.8  111.7  135.7  294.9  442.9  471.3  515.1  3.436523   \n",
       "8    87.9   19.3  45.3   60.9   63.5   86.5  113.4  120.7  140.1  3.247200   \n",
       "9    72.4   14.7  45.3   56.4   58.3   68.4   91.1  101.7  125.3  4.996039   \n",
       "10  261.9   99.3  49.8  104.4  125.4  263.9  393.9  417.7  449.1  4.866648   \n",
       "11  117.1   31.0  49.8   67.1   74.9  117.1  157.6  167.5  185.0  3.334992   \n",
       "\n",
       "       eig_1     eig_2     eig_3         eig_4                  desc  \n",
       "0   0.957107  0.485085  0.119927  8.150684e-08    0_2_0xd00_135_200k  \n",
       "1   0.930026  0.466559  0.124266  2.093437e-08   0_20_0xd00_135_200k  \n",
       "2   0.991840  0.532754  0.094445  5.714871e-04  0_300_0xd00_135_200k  \n",
       "3   0.974018  0.543048  0.112937  6.809913e-04  0_200_0xd00_135_200k  \n",
       "4   0.984261  0.485820  0.110002  6.702868e-04  0_250_0xd00_135_200k  \n",
       "5   0.944285  0.575131  0.129355  1.406585e-08   0_40_0xd00_135_200k  \n",
       "6   0.961143  0.489520  0.132902  3.800894e-08   0_30_0xd00_135_200k  \n",
       "7   0.992430  0.473820  0.096801  4.257090e-04  0_400_0xd00_135_200k  \n",
       "8   0.975741  0.635845  0.141214  1.210419e-07   0_50_0xd00_135_200k  \n",
       "9   0.002492  0.001076  0.000393  5.770076e-11   0_10_0xd00_135_200k  \n",
       "10  0.120729  0.010646  0.001944  3.324430e-05  0_350_0xd00_135_200k  \n",
       "11  0.965827  0.591491  0.107633  5.726498e-05  0_100_0xd00_135_200k  "
      ]
     },
     "execution_count": 81,
     "metadata": {},
     "output_type": "execute_result"
    }
   ],
   "source": [
    "eig_lat_energy_df"
   ]
  },
  {
   "cell_type": "code",
   "execution_count": 82,
   "id": "bbb2abcd",
   "metadata": {},
   "outputs": [],
   "source": [
    "#corr_itr_list['2']"
   ]
  },
  {
   "cell_type": "code",
   "execution_count": 83,
   "id": "2cc8c541",
   "metadata": {},
   "outputs": [],
   "source": [
    "#corr_itr_list['200']"
   ]
  },
  {
   "cell_type": "code",
   "execution_count": 84,
   "id": "934cb09f",
   "metadata": {},
   "outputs": [],
   "source": [
    "#corr_itr_list['250']"
   ]
  },
  {
   "cell_type": "code",
   "execution_count": 85,
   "id": "83b994be",
   "metadata": {},
   "outputs": [],
   "source": [
    "#corr_itr_list['300']"
   ]
  },
  {
   "cell_type": "code",
   "execution_count": 86,
   "id": "3049e094",
   "metadata": {},
   "outputs": [],
   "source": [
    "#corr_itr_list['30']"
   ]
  },
  {
   "cell_type": "code",
   "execution_count": 87,
   "id": "37ee27d8",
   "metadata": {},
   "outputs": [],
   "source": [
    "#corr_itr_list['400']"
   ]
  },
  {
   "cell_type": "code",
   "execution_count": null,
   "id": "b8f08d3a",
   "metadata": {},
   "outputs": [],
   "source": []
  }
 ],
 "metadata": {
  "kernelspec": {
   "display_name": "Python 3 (ipykernel)",
   "language": "python",
   "name": "python3"
  },
  "language_info": {
   "codemirror_mode": {
    "name": "ipython",
    "version": 3
   },
   "file_extension": ".py",
   "mimetype": "text/x-python",
   "name": "python",
   "nbconvert_exporter": "python",
   "pygments_lexer": "ipython3",
   "version": "3.10.12"
  }
 },
 "nbformat": 4,
 "nbformat_minor": 5
}
