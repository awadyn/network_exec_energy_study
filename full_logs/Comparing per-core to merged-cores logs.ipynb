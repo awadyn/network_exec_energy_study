{
 "cells": [
  {
   "cell_type": "code",
   "execution_count": 51,
   "id": "fa9d5a39",
   "metadata": {},
   "outputs": [],
   "source": [
    "import os\n",
    "import time\n",
    "import pandas as pd\n",
    "import numpy as np\n",
    "import matplotlib.pyplot as plt"
   ]
  },
  {
   "cell_type": "code",
   "execution_count": 52,
   "id": "dc046171",
   "metadata": {},
   "outputs": [],
   "source": [
    "import eigen_analysis\n",
    "\n",
    "cols = eigen_analysis.LINUX_COLS\n",
    "time_unit = eigen_analysis.TIME_CONVERSION_khz\n",
    "joules_unit = eigen_analysis.JOULE_CONVERSION"
   ]
  },
  {
   "cell_type": "code",
   "execution_count": 53,
   "id": "e8b6ca6f",
   "metadata": {},
   "outputs": [],
   "source": [
    "# get all itrs explored for some (dvfs, qps) pair\n",
    "def list_itrs(rdtsc_dirname):\n",
    "    itrs = []\n",
    "    for file in os.listdir(rdtsc_dirname):\n",
    "        tags = file.split('_')\n",
    "        itr = tags[1]\n",
    "        itrs.append(itr)\n",
    "    itrs = list(set(itrs))\n",
    "    return itrs"
   ]
  },
  {
   "cell_type": "code",
   "execution_count": 114,
   "id": "c55113ec",
   "metadata": {},
   "outputs": [],
   "source": [
    "app = 'mcdsilo'\n",
    "run = '0'\n",
    "rapl = '135'"
   ]
  },
  {
   "cell_type": "code",
   "execution_count": 115,
   "id": "65fdd189",
   "metadata": {},
   "outputs": [],
   "source": [
    "app_dir = app + '_' + run + '_rapl_' + rapl + '/'\n",
    "dvfs = '0x1300'\n",
    "logs_dir = app_dir + qps + '_qps/linux_' + app + '_dmesg_' + run + '_' + dvfs + '_' + rapl + '_' + qps + '/'\n",
    "cores = []\n",
    "cores = !ls $logs_dir | cut -d '_' -f2 | sort | uniq\n",
    "#cores = [c for c in range(0, 16)]"
   ]
  },
  {
   "cell_type": "code",
   "execution_count": 116,
   "id": "a4c5d03f",
   "metadata": {},
   "outputs": [],
   "source": [
    "global itrs\n",
    "global cores\n",
    "global app_dir"
   ]
  },
  {
   "cell_type": "code",
   "execution_count": 117,
   "id": "e88b9678",
   "metadata": {},
   "outputs": [
    {
     "data": {
      "text/plain": [
       "['0',\n",
       " '1',\n",
       " '10',\n",
       " '11',\n",
       " '12',\n",
       " '13',\n",
       " '14',\n",
       " '2',\n",
       " '3',\n",
       " '4',\n",
       " '5',\n",
       " '6',\n",
       " '7',\n",
       " '8',\n",
       " '9']"
      ]
     },
     "execution_count": 117,
     "metadata": {},
     "output_type": "execute_result"
    }
   ],
   "source": [
    "cores"
   ]
  },
  {
   "cell_type": "code",
   "execution_count": 118,
   "id": "4ee19fcd",
   "metadata": {},
   "outputs": [],
   "source": [
    "def print_err_log(dvfs, qps, itr, rapl='135', run='0', err_dir = app_dir + 'err_logs/'):\n",
    "    err_filename = 'err_log_' + run + '_' + itr + '_' + dvfs + '_' + rapl + '_' + qps[:-1] + '000'\n",
    "    if os.path.exists(err_dir + err_filename):\n",
    "        err_file = open(err_dir + err_filename, 'r')\n",
    "        print(err_file.read())\n",
    "    else:\n",
    "        print('EMPTY ERROR LOG')"
   ]
  },
  {
   "cell_type": "code",
   "execution_count": 119,
   "id": "63d9dadc",
   "metadata": {},
   "outputs": [],
   "source": [
    "def handle_neg_diffs(df_diffs, df, core, err_file):\n",
    "    \n",
    "    tmp = df_diffs.copy()\n",
    "\n",
    "    # isolating rows with negative diffs\n",
    "    tmp_neg = tmp[(tmp['joules_diff'] < 0) | (tmp['instructions_diff'] < 0) | (tmp['cycles_diff'] < 0) \\\n",
    "                   | (tmp['ref_cycles_diff'] < 0) | (tmp['llc_miss_diff'] < 0) | (tmp['timestamp_diff'] < 0)]\n",
    "\n",
    "    # re-computing diffs if possible; else dropping rows\n",
    "    for i,j in tmp_neg.iterrows():\n",
    "        prev = df.shift(1).loc[i]\n",
    "        cur = df.loc[i]\n",
    "        # TODO note that we are only handling case of RAPL-energy-status register overflow\n",
    "        if (tmp.loc[i]['joules_diff'] < 0) & (tmp.loc[i]['timestamp_diff'] >= 0.001):\n",
    "            err_file.write('CORE ' + str(core) + '  ---  JOULES COUNTER OVERFLOW AT LOG ENTRY DIFF #' + str(i) + '\\n')\n",
    "            tmp.loc[i, ['joules_diff']] = (2**32 - 1) * joules_unit - prev['joules'] + cur['joules'] \n",
    "        else:\n",
    "            err_file.write('CORE ' + str(core) + '  ---  UNEXPLAINED NEGATIVE VALS AT LOG ENTRY DIFF # ' + str(i) + '\\n')\n",
    "            cols = ''\n",
    "            prevs = ''\n",
    "            currs = ''\n",
    "            for col in list(df.columns):\n",
    "                cols += col + '  '\n",
    "                prevs += str(prev[col]) + '  '\n",
    "                currs += str(cur[col]) + '  '\n",
    "            err_file.write('          ' + cols + '\\n')\n",
    "            err_file.write('         log[' + str(i-1) + ']: ' + prevs + '\\n')\n",
    "            err_file.write('         log[' + str(i) + ']: ' + currs + '\\n')\n",
    "            tmp = tmp.drop(i, axis=0)\n",
    "\n",
    "    return tmp"
   ]
  },
  {
   "cell_type": "markdown",
   "id": "762597ce",
   "metadata": {},
   "source": [
    "### Correlation matrices and eigenvals:"
   ]
  },
  {
   "cell_type": "code",
   "execution_count": 120,
   "id": "808ea4c3",
   "metadata": {},
   "outputs": [],
   "source": [
    "def per_core_corr(dvfs, qps, itr, app, rapl='135', run='0'):\n",
    "\n",
    "    counters_corr_dict = {}\n",
    "    non_counters_corr_dict = {}\n",
    "\n",
    "    app_dir = app + '_' + run + '_rapl_' + rapl + '/'\n",
    "    # here are all the log files for this dvfs & qps\n",
    "    logs_dir = app_dir + qps + '_qps/linux_' + app + '_dmesg_' + run + '_' + dvfs + '_' + rapl + '_' + qps + '/'\n",
    "    # here are all the time-management files for this dvfs & qps\n",
    "    rdtsc_dir = app_dir + qps + '_qps/linux_' + app + '_rdtsc_' + run + '_' + dvfs + '_' + rapl + '_' + qps +'/'\n",
    "    rdtsc_file = rdtsc_dir + 'linux.' + app + '.rdtsc.' + run + '_' + itr + '_' + dvfs + '_' + rapl + '_' + qps[:-1] + '000'\n",
    "    start, end = eigen_analysis.get_rdtsc(rdtsc_file)\n",
    "\n",
    "    # initializing error log file\n",
    "    err_dir = app_dir + 'err_logs/'\n",
    "    err_filename = 'err_log_' + run + '_' + itr + '_' + dvfs + '_' + rapl + '_' + qps[:-1] + '000'\n",
    "    err_file = open(err_dir + err_filename, 'w')\n",
    "\n",
    "    cores = []\n",
    "    cores = !ls $logs_dir | cut -d '_' -f2 | sort | uniq\n",
    "    #cores = [c for c in range(0, 16)]\n",
    "    for c in cores:\n",
    "        file = logs_dir + 'linux.' + app + '.dmesg.' + run + '_' + str(c) + '_' + itr + '_' + dvfs + '_' + rapl + '_' + qps[:-1] + '000'\n",
    "        \n",
    "        print('Uncompressing log file..')\n",
    "        !gunzip -v $file'.gz'    \n",
    "        df = pd.read_csv(file, sep = ' ', names = cols, index_col='i')\n",
    "        print('Compressing log file..')\n",
    "        !gzip -v9 $file\n",
    "        \n",
    "        df = df[(df['timestamp'] >= start) & (df['timestamp'] <= end)]\n",
    "        df.loc[:, 'timestamp'] = df['timestamp'] - df['timestamp'].min()\n",
    "        df.loc[:, 'timestamp'] = df['timestamp'] * time_unit\n",
    "        df.loc[:, 'joules'] = df['joules'] * joules_unit\n",
    "        \n",
    "        counters_df = df[['joules', 'instructions', 'cycles', 'ref_cycles', 'llc_miss', 'timestamp']].copy()\n",
    "        counters_df = counters_df[(counters_df['joules'] > 0) & (counters_df['instructions'] > 0) \\\n",
    "                                            & (counters_df['cycles'] > 0) & (counters_df['ref_cycles'] > 0) \\\n",
    "                                            & (counters_df['llc_miss'] > 0)]\n",
    "        # computing diffs of counter readings\n",
    "        df_diffs = counters_df.diff().dropna().copy()\n",
    "        df_diffs.columns = [f'{c}_diff' for c in df_diffs.columns]\n",
    "        df_diffs = handle_neg_diffs(df_diffs, counters_df, c, err_file)\n",
    "        df_corr = df_diffs.drop(['timestamp_diff', 'joules_diff'], axis = 1).corr()\n",
    "        counters_corr_dict[str(c)] = df_corr\n",
    "\n",
    "        non_counters_df = df[['rx_bytes', 'rx_desc', 'tx_bytes', 'tx_desc']].copy()\n",
    "        df_corr = non_counters_df.corr()\n",
    "        non_counters_corr_dict[str(c)] = df_corr\n",
    "        \n",
    "    return counters_corr_dict, non_counters_corr_dict"
   ]
  },
  {
   "cell_type": "code",
   "execution_count": 121,
   "id": "38212c78",
   "metadata": {},
   "outputs": [],
   "source": [
    "def merged_core_corr(dvfs, qps, itr, app, rapl='135', run='0'):\n",
    "    app_dir = app + '_' + run + '_rapl_' + rapl + '/'\n",
    "    merged_dir = app_dir + qps + '_merged/'\n",
    "    merged_counters_dir = merged_dir + qps + '_' + dvfs + '_counters_merged/'\n",
    "    merged_non_counters_dir = merged_dir + qps + '_' + dvfs + '_non_counters_merged/'\n",
    "    merged_counters_file = merged_counters_dir + dvfs + '_' + qps + '_' + itr + '_counters_merged'\n",
    "    merged_non_counters_file = merged_non_counters_dir + dvfs + '_' + qps + '_' + itr + '_non_counters_merged'\n",
    "    print('Uncompressing merged log files..')\n",
    "    !gunzip -v $merged_counters_file'.gz'    \n",
    "    !gunzip -v $merged_non_counters_file'.gz'    \n",
    "    counters_df = pd.read_csv(merged_counters_file, index_col=0)\n",
    "    non_counters_df = pd.read_csv(merged_non_counters_file, index_col=0)\n",
    "    counters_corr = counters_df.drop(['timestamp', 'joules_diff'], axis = 1).corr()\n",
    "    print('Compressing merged log files..')\n",
    "    !gzip -v9 $merged_counters_file    \n",
    "    !gzip -v9 $merged_non_counters_file    \n",
    "\n",
    "    non_counters_corr = non_counters_df.drop(['timestamp'], axis = 1).corr()\n",
    "    \n",
    "    return counters_corr, non_counters_corr"
   ]
  },
  {
   "cell_type": "code",
   "execution_count": 122,
   "id": "b12f1a7a",
   "metadata": {},
   "outputs": [
    {
     "name": "stdout",
     "output_type": "stream",
     "text": [
      "Uncompressing merged log files..\n",
      "mcdsilo_0_rapl_135/200k_merged/200k_0x1300_counters_merged/0x1300_200k_20_counters_merged.gz:\t 65.5% -- replaced with mcdsilo_0_rapl_135/200k_merged/200k_0x1300_counters_merged/0x1300_200k_20_counters_merged\n",
      "mcdsilo_0_rapl_135/200k_merged/200k_0x1300_non_counters_merged/0x1300_200k_20_non_counters_merged.gz:\t 74.3% -- replaced with mcdsilo_0_rapl_135/200k_merged/200k_0x1300_non_counters_merged/0x1300_200k_20_non_counters_merged\n",
      "Compressing merged log files..\n",
      "mcdsilo_0_rapl_135/200k_merged/200k_0x1300_counters_merged/0x1300_200k_20_counters_merged:\t 65.5% -- replaced with mcdsilo_0_rapl_135/200k_merged/200k_0x1300_counters_merged/0x1300_200k_20_counters_merged.gz\n",
      "mcdsilo_0_rapl_135/200k_merged/200k_0x1300_non_counters_merged/0x1300_200k_20_non_counters_merged:\t 74.3% -- replaced with mcdsilo_0_rapl_135/200k_merged/200k_0x1300_non_counters_merged/0x1300_200k_20_non_counters_merged.gz\n"
     ]
    }
   ],
   "source": [
    "counters_corr, non_counters_corr = merged_core_corr('0x1300', '200k', '20', 'mcdsilo')"
   ]
  },
  {
   "cell_type": "code",
   "execution_count": 123,
   "id": "fdc9a342",
   "metadata": {
    "scrolled": true
   },
   "outputs": [
    {
     "data": {
      "text/html": [
       "<div>\n",
       "<style scoped>\n",
       "    .dataframe tbody tr th:only-of-type {\n",
       "        vertical-align: middle;\n",
       "    }\n",
       "\n",
       "    .dataframe tbody tr th {\n",
       "        vertical-align: top;\n",
       "    }\n",
       "\n",
       "    .dataframe thead th {\n",
       "        text-align: right;\n",
       "    }\n",
       "</style>\n",
       "<table border=\"1\" class=\"dataframe\">\n",
       "  <thead>\n",
       "    <tr style=\"text-align: right;\">\n",
       "      <th></th>\n",
       "      <th>instructions_diff</th>\n",
       "      <th>cycles_diff</th>\n",
       "      <th>ref_cycles_diff</th>\n",
       "      <th>llc_miss_diff</th>\n",
       "    </tr>\n",
       "  </thead>\n",
       "  <tbody>\n",
       "    <tr>\n",
       "      <th>instructions_diff</th>\n",
       "      <td>1.000000</td>\n",
       "      <td>0.944658</td>\n",
       "      <td>0.944655</td>\n",
       "      <td>0.900707</td>\n",
       "    </tr>\n",
       "    <tr>\n",
       "      <th>cycles_diff</th>\n",
       "      <td>0.944658</td>\n",
       "      <td>1.000000</td>\n",
       "      <td>1.000000</td>\n",
       "      <td>0.942879</td>\n",
       "    </tr>\n",
       "    <tr>\n",
       "      <th>ref_cycles_diff</th>\n",
       "      <td>0.944655</td>\n",
       "      <td>1.000000</td>\n",
       "      <td>1.000000</td>\n",
       "      <td>0.942884</td>\n",
       "    </tr>\n",
       "    <tr>\n",
       "      <th>llc_miss_diff</th>\n",
       "      <td>0.900707</td>\n",
       "      <td>0.942879</td>\n",
       "      <td>0.942884</td>\n",
       "      <td>1.000000</td>\n",
       "    </tr>\n",
       "  </tbody>\n",
       "</table>\n",
       "</div>"
      ],
      "text/plain": [
       "                   instructions_diff  cycles_diff  ref_cycles_diff  \\\n",
       "instructions_diff           1.000000     0.944658         0.944655   \n",
       "cycles_diff                 0.944658     1.000000         1.000000   \n",
       "ref_cycles_diff             0.944655     1.000000         1.000000   \n",
       "llc_miss_diff               0.900707     0.942879         0.942884   \n",
       "\n",
       "                   llc_miss_diff  \n",
       "instructions_diff       0.900707  \n",
       "cycles_diff             0.942879  \n",
       "ref_cycles_diff         0.942884  \n",
       "llc_miss_diff           1.000000  "
      ]
     },
     "execution_count": 123,
     "metadata": {},
     "output_type": "execute_result"
    }
   ],
   "source": [
    "counters_corr"
   ]
  },
  {
   "cell_type": "code",
   "execution_count": 124,
   "id": "a94974fb",
   "metadata": {},
   "outputs": [
    {
     "data": {
      "text/html": [
       "<div>\n",
       "<style scoped>\n",
       "    .dataframe tbody tr th:only-of-type {\n",
       "        vertical-align: middle;\n",
       "    }\n",
       "\n",
       "    .dataframe tbody tr th {\n",
       "        vertical-align: top;\n",
       "    }\n",
       "\n",
       "    .dataframe thead th {\n",
       "        text-align: right;\n",
       "    }\n",
       "</style>\n",
       "<table border=\"1\" class=\"dataframe\">\n",
       "  <thead>\n",
       "    <tr style=\"text-align: right;\">\n",
       "      <th></th>\n",
       "      <th>rx_bytes</th>\n",
       "      <th>rx_desc</th>\n",
       "      <th>tx_bytes</th>\n",
       "      <th>tx_desc</th>\n",
       "    </tr>\n",
       "  </thead>\n",
       "  <tbody>\n",
       "    <tr>\n",
       "      <th>rx_bytes</th>\n",
       "      <td>1.000000</td>\n",
       "      <td>0.980979</td>\n",
       "      <td>-0.607758</td>\n",
       "      <td>-0.610090</td>\n",
       "    </tr>\n",
       "    <tr>\n",
       "      <th>rx_desc</th>\n",
       "      <td>0.980979</td>\n",
       "      <td>1.000000</td>\n",
       "      <td>-0.617714</td>\n",
       "      <td>-0.620197</td>\n",
       "    </tr>\n",
       "    <tr>\n",
       "      <th>tx_bytes</th>\n",
       "      <td>-0.607758</td>\n",
       "      <td>-0.617714</td>\n",
       "      <td>1.000000</td>\n",
       "      <td>0.999187</td>\n",
       "    </tr>\n",
       "    <tr>\n",
       "      <th>tx_desc</th>\n",
       "      <td>-0.610090</td>\n",
       "      <td>-0.620197</td>\n",
       "      <td>0.999187</td>\n",
       "      <td>1.000000</td>\n",
       "    </tr>\n",
       "  </tbody>\n",
       "</table>\n",
       "</div>"
      ],
      "text/plain": [
       "          rx_bytes   rx_desc  tx_bytes   tx_desc\n",
       "rx_bytes  1.000000  0.980979 -0.607758 -0.610090\n",
       "rx_desc   0.980979  1.000000 -0.617714 -0.620197\n",
       "tx_bytes -0.607758 -0.617714  1.000000  0.999187\n",
       "tx_desc  -0.610090 -0.620197  0.999187  1.000000"
      ]
     },
     "execution_count": 124,
     "metadata": {},
     "output_type": "execute_result"
    }
   ],
   "source": [
    "non_counters_corr"
   ]
  },
  {
   "cell_type": "code",
   "execution_count": 125,
   "id": "9f6f81c3",
   "metadata": {},
   "outputs": [
    {
     "name": "stdout",
     "output_type": "stream",
     "text": [
      "Uncompressing log file..\n",
      "mcdsilo_0_rapl_135/200k_qps/linux_mcdsilo_dmesg_0_0x1300_135_200k/linux.mcdsilo.dmesg.0_0_20_0x1300_135_200000.gz:\t 80.6% -- replaced with mcdsilo_0_rapl_135/200k_qps/linux_mcdsilo_dmesg_0_0x1300_135_200k/linux.mcdsilo.dmesg.0_0_20_0x1300_135_200000\n",
      "Compressing log file..\n",
      "mcdsilo_0_rapl_135/200k_qps/linux_mcdsilo_dmesg_0_0x1300_135_200k/linux.mcdsilo.dmesg.0_0_20_0x1300_135_200000:\t 80.6% -- replaced with mcdsilo_0_rapl_135/200k_qps/linux_mcdsilo_dmesg_0_0x1300_135_200k/linux.mcdsilo.dmesg.0_0_20_0x1300_135_200000.gz\n",
      "Uncompressing log file..\n",
      "mcdsilo_0_rapl_135/200k_qps/linux_mcdsilo_dmesg_0_0x1300_135_200k/linux.mcdsilo.dmesg.0_1_20_0x1300_135_200000.gz:\t 80.4% -- replaced with mcdsilo_0_rapl_135/200k_qps/linux_mcdsilo_dmesg_0_0x1300_135_200k/linux.mcdsilo.dmesg.0_1_20_0x1300_135_200000\n",
      "Compressing log file..\n",
      "mcdsilo_0_rapl_135/200k_qps/linux_mcdsilo_dmesg_0_0x1300_135_200k/linux.mcdsilo.dmesg.0_1_20_0x1300_135_200000:\t 80.4% -- replaced with mcdsilo_0_rapl_135/200k_qps/linux_mcdsilo_dmesg_0_0x1300_135_200k/linux.mcdsilo.dmesg.0_1_20_0x1300_135_200000.gz\n",
      "Uncompressing log file..\n",
      "mcdsilo_0_rapl_135/200k_qps/linux_mcdsilo_dmesg_0_0x1300_135_200k/linux.mcdsilo.dmesg.0_10_20_0x1300_135_200000.gz:\t 80.8% -- replaced with mcdsilo_0_rapl_135/200k_qps/linux_mcdsilo_dmesg_0_0x1300_135_200k/linux.mcdsilo.dmesg.0_10_20_0x1300_135_200000\n",
      "Compressing log file..\n",
      "mcdsilo_0_rapl_135/200k_qps/linux_mcdsilo_dmesg_0_0x1300_135_200k/linux.mcdsilo.dmesg.0_10_20_0x1300_135_200000:\t 80.8% -- replaced with mcdsilo_0_rapl_135/200k_qps/linux_mcdsilo_dmesg_0_0x1300_135_200k/linux.mcdsilo.dmesg.0_10_20_0x1300_135_200000.gz\n",
      "Uncompressing log file..\n",
      "mcdsilo_0_rapl_135/200k_qps/linux_mcdsilo_dmesg_0_0x1300_135_200k/linux.mcdsilo.dmesg.0_11_20_0x1300_135_200000.gz:\t 81.0% -- replaced with mcdsilo_0_rapl_135/200k_qps/linux_mcdsilo_dmesg_0_0x1300_135_200k/linux.mcdsilo.dmesg.0_11_20_0x1300_135_200000\n",
      "Compressing log file..\n",
      "mcdsilo_0_rapl_135/200k_qps/linux_mcdsilo_dmesg_0_0x1300_135_200k/linux.mcdsilo.dmesg.0_11_20_0x1300_135_200000:\t 81.0% -- replaced with mcdsilo_0_rapl_135/200k_qps/linux_mcdsilo_dmesg_0_0x1300_135_200k/linux.mcdsilo.dmesg.0_11_20_0x1300_135_200000.gz\n",
      "Uncompressing log file..\n",
      "mcdsilo_0_rapl_135/200k_qps/linux_mcdsilo_dmesg_0_0x1300_135_200k/linux.mcdsilo.dmesg.0_12_20_0x1300_135_200000.gz:\t 80.6% -- replaced with mcdsilo_0_rapl_135/200k_qps/linux_mcdsilo_dmesg_0_0x1300_135_200k/linux.mcdsilo.dmesg.0_12_20_0x1300_135_200000\n",
      "Compressing log file..\n",
      "mcdsilo_0_rapl_135/200k_qps/linux_mcdsilo_dmesg_0_0x1300_135_200k/linux.mcdsilo.dmesg.0_12_20_0x1300_135_200000:\t 80.6% -- replaced with mcdsilo_0_rapl_135/200k_qps/linux_mcdsilo_dmesg_0_0x1300_135_200k/linux.mcdsilo.dmesg.0_12_20_0x1300_135_200000.gz\n",
      "Uncompressing log file..\n",
      "mcdsilo_0_rapl_135/200k_qps/linux_mcdsilo_dmesg_0_0x1300_135_200k/linux.mcdsilo.dmesg.0_13_20_0x1300_135_200000.gz:\t 81.2% -- replaced with mcdsilo_0_rapl_135/200k_qps/linux_mcdsilo_dmesg_0_0x1300_135_200k/linux.mcdsilo.dmesg.0_13_20_0x1300_135_200000\n",
      "Compressing log file..\n",
      "mcdsilo_0_rapl_135/200k_qps/linux_mcdsilo_dmesg_0_0x1300_135_200k/linux.mcdsilo.dmesg.0_13_20_0x1300_135_200000:\t 81.2% -- replaced with mcdsilo_0_rapl_135/200k_qps/linux_mcdsilo_dmesg_0_0x1300_135_200k/linux.mcdsilo.dmesg.0_13_20_0x1300_135_200000.gz\n",
      "Uncompressing log file..\n",
      "mcdsilo_0_rapl_135/200k_qps/linux_mcdsilo_dmesg_0_0x1300_135_200k/linux.mcdsilo.dmesg.0_14_20_0x1300_135_200000.gz:\t 81.1% -- replaced with mcdsilo_0_rapl_135/200k_qps/linux_mcdsilo_dmesg_0_0x1300_135_200k/linux.mcdsilo.dmesg.0_14_20_0x1300_135_200000\n",
      "Compressing log file..\n",
      "mcdsilo_0_rapl_135/200k_qps/linux_mcdsilo_dmesg_0_0x1300_135_200k/linux.mcdsilo.dmesg.0_14_20_0x1300_135_200000:\t 81.1% -- replaced with mcdsilo_0_rapl_135/200k_qps/linux_mcdsilo_dmesg_0_0x1300_135_200k/linux.mcdsilo.dmesg.0_14_20_0x1300_135_200000.gz\n",
      "Uncompressing log file..\n",
      "mcdsilo_0_rapl_135/200k_qps/linux_mcdsilo_dmesg_0_0x1300_135_200k/linux.mcdsilo.dmesg.0_2_20_0x1300_135_200000.gz:\t 81.2% -- replaced with mcdsilo_0_rapl_135/200k_qps/linux_mcdsilo_dmesg_0_0x1300_135_200k/linux.mcdsilo.dmesg.0_2_20_0x1300_135_200000\n",
      "Compressing log file..\n",
      "mcdsilo_0_rapl_135/200k_qps/linux_mcdsilo_dmesg_0_0x1300_135_200k/linux.mcdsilo.dmesg.0_2_20_0x1300_135_200000:\t 81.2% -- replaced with mcdsilo_0_rapl_135/200k_qps/linux_mcdsilo_dmesg_0_0x1300_135_200k/linux.mcdsilo.dmesg.0_2_20_0x1300_135_200000.gz\n",
      "Uncompressing log file..\n",
      "mcdsilo_0_rapl_135/200k_qps/linux_mcdsilo_dmesg_0_0x1300_135_200k/linux.mcdsilo.dmesg.0_3_20_0x1300_135_200000.gz:\t 80.8% -- replaced with mcdsilo_0_rapl_135/200k_qps/linux_mcdsilo_dmesg_0_0x1300_135_200k/linux.mcdsilo.dmesg.0_3_20_0x1300_135_200000\n",
      "Compressing log file..\n",
      "mcdsilo_0_rapl_135/200k_qps/linux_mcdsilo_dmesg_0_0x1300_135_200k/linux.mcdsilo.dmesg.0_3_20_0x1300_135_200000:\t 80.8% -- replaced with mcdsilo_0_rapl_135/200k_qps/linux_mcdsilo_dmesg_0_0x1300_135_200k/linux.mcdsilo.dmesg.0_3_20_0x1300_135_200000.gz\n",
      "Uncompressing log file..\n",
      "mcdsilo_0_rapl_135/200k_qps/linux_mcdsilo_dmesg_0_0x1300_135_200k/linux.mcdsilo.dmesg.0_4_20_0x1300_135_200000.gz:\t 81.2% -- replaced with mcdsilo_0_rapl_135/200k_qps/linux_mcdsilo_dmesg_0_0x1300_135_200k/linux.mcdsilo.dmesg.0_4_20_0x1300_135_200000\n",
      "Compressing log file..\n",
      "mcdsilo_0_rapl_135/200k_qps/linux_mcdsilo_dmesg_0_0x1300_135_200k/linux.mcdsilo.dmesg.0_4_20_0x1300_135_200000:\t 81.2% -- replaced with mcdsilo_0_rapl_135/200k_qps/linux_mcdsilo_dmesg_0_0x1300_135_200k/linux.mcdsilo.dmesg.0_4_20_0x1300_135_200000.gz\n",
      "Uncompressing log file..\n",
      "mcdsilo_0_rapl_135/200k_qps/linux_mcdsilo_dmesg_0_0x1300_135_200k/linux.mcdsilo.dmesg.0_5_20_0x1300_135_200000.gz:\t 81.1% -- replaced with mcdsilo_0_rapl_135/200k_qps/linux_mcdsilo_dmesg_0_0x1300_135_200k/linux.mcdsilo.dmesg.0_5_20_0x1300_135_200000\n",
      "Compressing log file..\n",
      "mcdsilo_0_rapl_135/200k_qps/linux_mcdsilo_dmesg_0_0x1300_135_200k/linux.mcdsilo.dmesg.0_5_20_0x1300_135_200000:\t 81.1% -- replaced with mcdsilo_0_rapl_135/200k_qps/linux_mcdsilo_dmesg_0_0x1300_135_200k/linux.mcdsilo.dmesg.0_5_20_0x1300_135_200000.gz\n",
      "Uncompressing log file..\n",
      "mcdsilo_0_rapl_135/200k_qps/linux_mcdsilo_dmesg_0_0x1300_135_200k/linux.mcdsilo.dmesg.0_6_20_0x1300_135_200000.gz:\t 81.7% -- replaced with mcdsilo_0_rapl_135/200k_qps/linux_mcdsilo_dmesg_0_0x1300_135_200k/linux.mcdsilo.dmesg.0_6_20_0x1300_135_200000\n",
      "Compressing log file..\n",
      "mcdsilo_0_rapl_135/200k_qps/linux_mcdsilo_dmesg_0_0x1300_135_200k/linux.mcdsilo.dmesg.0_6_20_0x1300_135_200000:\t 81.7% -- replaced with mcdsilo_0_rapl_135/200k_qps/linux_mcdsilo_dmesg_0_0x1300_135_200k/linux.mcdsilo.dmesg.0_6_20_0x1300_135_200000.gz\n",
      "Uncompressing log file..\n",
      "mcdsilo_0_rapl_135/200k_qps/linux_mcdsilo_dmesg_0_0x1300_135_200k/linux.mcdsilo.dmesg.0_7_20_0x1300_135_200000.gz:\t 81.2% -- replaced with mcdsilo_0_rapl_135/200k_qps/linux_mcdsilo_dmesg_0_0x1300_135_200k/linux.mcdsilo.dmesg.0_7_20_0x1300_135_200000\n",
      "Compressing log file..\n",
      "mcdsilo_0_rapl_135/200k_qps/linux_mcdsilo_dmesg_0_0x1300_135_200k/linux.mcdsilo.dmesg.0_7_20_0x1300_135_200000:\t 81.2% -- replaced with mcdsilo_0_rapl_135/200k_qps/linux_mcdsilo_dmesg_0_0x1300_135_200k/linux.mcdsilo.dmesg.0_7_20_0x1300_135_200000.gz\n",
      "Uncompressing log file..\n",
      "mcdsilo_0_rapl_135/200k_qps/linux_mcdsilo_dmesg_0_0x1300_135_200k/linux.mcdsilo.dmesg.0_8_20_0x1300_135_200000.gz:\t 81.2% -- replaced with mcdsilo_0_rapl_135/200k_qps/linux_mcdsilo_dmesg_0_0x1300_135_200k/linux.mcdsilo.dmesg.0_8_20_0x1300_135_200000\n",
      "Compressing log file..\n",
      "mcdsilo_0_rapl_135/200k_qps/linux_mcdsilo_dmesg_0_0x1300_135_200k/linux.mcdsilo.dmesg.0_8_20_0x1300_135_200000:\t 81.2% -- replaced with mcdsilo_0_rapl_135/200k_qps/linux_mcdsilo_dmesg_0_0x1300_135_200k/linux.mcdsilo.dmesg.0_8_20_0x1300_135_200000.gz\n",
      "Uncompressing log file..\n",
      "mcdsilo_0_rapl_135/200k_qps/linux_mcdsilo_dmesg_0_0x1300_135_200k/linux.mcdsilo.dmesg.0_9_20_0x1300_135_200000.gz:\t 80.8% -- replaced with mcdsilo_0_rapl_135/200k_qps/linux_mcdsilo_dmesg_0_0x1300_135_200k/linux.mcdsilo.dmesg.0_9_20_0x1300_135_200000\n",
      "Compressing log file..\n",
      "mcdsilo_0_rapl_135/200k_qps/linux_mcdsilo_dmesg_0_0x1300_135_200k/linux.mcdsilo.dmesg.0_9_20_0x1300_135_200000:\t 80.8% -- replaced with mcdsilo_0_rapl_135/200k_qps/linux_mcdsilo_dmesg_0_0x1300_135_200k/linux.mcdsilo.dmesg.0_9_20_0x1300_135_200000.gz\n"
     ]
    },
    {
     "name": "stdout",
     "output_type": "stream",
     "text": [
      "Uncompressing merged log files..\n",
      "mcdsilo_0_rapl_135/200k_merged/200k_0x1300_counters_merged/0x1300_200k_20_counters_merged.gz:\t 65.5% -- replaced with mcdsilo_0_rapl_135/200k_merged/200k_0x1300_counters_merged/0x1300_200k_20_counters_merged\n",
      "mcdsilo_0_rapl_135/200k_merged/200k_0x1300_non_counters_merged/0x1300_200k_20_non_counters_merged.gz:\t 74.3% -- replaced with mcdsilo_0_rapl_135/200k_merged/200k_0x1300_non_counters_merged/0x1300_200k_20_non_counters_merged\n",
      "Compressing merged log files..\n",
      "mcdsilo_0_rapl_135/200k_merged/200k_0x1300_counters_merged/0x1300_200k_20_counters_merged:\t 65.5% -- replaced with mcdsilo_0_rapl_135/200k_merged/200k_0x1300_counters_merged/0x1300_200k_20_counters_merged.gz\n",
      "mcdsilo_0_rapl_135/200k_merged/200k_0x1300_non_counters_merged/0x1300_200k_20_non_counters_merged:\t 74.3% -- replaced with mcdsilo_0_rapl_135/200k_merged/200k_0x1300_non_counters_merged/0x1300_200k_20_non_counters_merged.gz\n"
     ]
    }
   ],
   "source": [
    "dvfs = '0x1300'\n",
    "qps = '200k'\n",
    "itr = '20'\n",
    "app = 'mcdsilo'\n",
    "counters_corr_dict, non_counters_corr_dict = per_core_corr(dvfs, qps, itr, app)\n",
    "merged_counters_corr, merged_non_counters_corr = merged_core_corr(dvfs, qps, itr, app)"
   ]
  },
  {
   "cell_type": "code",
   "execution_count": 126,
   "id": "db57fdf7",
   "metadata": {
    "scrolled": false
   },
   "outputs": [
    {
     "data": {
      "text/html": [
       "<div>\n",
       "<style scoped>\n",
       "    .dataframe tbody tr th:only-of-type {\n",
       "        vertical-align: middle;\n",
       "    }\n",
       "\n",
       "    .dataframe tbody tr th {\n",
       "        vertical-align: top;\n",
       "    }\n",
       "\n",
       "    .dataframe thead th {\n",
       "        text-align: right;\n",
       "    }\n",
       "</style>\n",
       "<table border=\"1\" class=\"dataframe\">\n",
       "  <thead>\n",
       "    <tr style=\"text-align: right;\">\n",
       "      <th></th>\n",
       "      <th>instructions_diff</th>\n",
       "      <th>cycles_diff</th>\n",
       "      <th>ref_cycles_diff</th>\n",
       "      <th>llc_miss_diff</th>\n",
       "    </tr>\n",
       "  </thead>\n",
       "  <tbody>\n",
       "    <tr>\n",
       "      <th>instructions_diff</th>\n",
       "      <td>1.000000</td>\n",
       "      <td>0.952592</td>\n",
       "      <td>0.952591</td>\n",
       "      <td>0.918290</td>\n",
       "    </tr>\n",
       "    <tr>\n",
       "      <th>cycles_diff</th>\n",
       "      <td>0.952592</td>\n",
       "      <td>1.000000</td>\n",
       "      <td>1.000000</td>\n",
       "      <td>0.949897</td>\n",
       "    </tr>\n",
       "    <tr>\n",
       "      <th>ref_cycles_diff</th>\n",
       "      <td>0.952591</td>\n",
       "      <td>1.000000</td>\n",
       "      <td>1.000000</td>\n",
       "      <td>0.949896</td>\n",
       "    </tr>\n",
       "    <tr>\n",
       "      <th>llc_miss_diff</th>\n",
       "      <td>0.918290</td>\n",
       "      <td>0.949897</td>\n",
       "      <td>0.949896</td>\n",
       "      <td>1.000000</td>\n",
       "    </tr>\n",
       "  </tbody>\n",
       "</table>\n",
       "</div>"
      ],
      "text/plain": [
       "                   instructions_diff  cycles_diff  ref_cycles_diff  \\\n",
       "instructions_diff           1.000000     0.952592         0.952591   \n",
       "cycles_diff                 0.952592     1.000000         1.000000   \n",
       "ref_cycles_diff             0.952591     1.000000         1.000000   \n",
       "llc_miss_diff               0.918290     0.949897         0.949896   \n",
       "\n",
       "                   llc_miss_diff  \n",
       "instructions_diff       0.918290  \n",
       "cycles_diff             0.949897  \n",
       "ref_cycles_diff         0.949896  \n",
       "llc_miss_diff           1.000000  "
      ]
     },
     "execution_count": 126,
     "metadata": {},
     "output_type": "execute_result"
    }
   ],
   "source": [
    "counters_corr_dict['10']"
   ]
  },
  {
   "cell_type": "code",
   "execution_count": 127,
   "id": "5dfd9151",
   "metadata": {
    "scrolled": false
   },
   "outputs": [
    {
     "data": {
      "text/html": [
       "<div>\n",
       "<style scoped>\n",
       "    .dataframe tbody tr th:only-of-type {\n",
       "        vertical-align: middle;\n",
       "    }\n",
       "\n",
       "    .dataframe tbody tr th {\n",
       "        vertical-align: top;\n",
       "    }\n",
       "\n",
       "    .dataframe thead th {\n",
       "        text-align: right;\n",
       "    }\n",
       "</style>\n",
       "<table border=\"1\" class=\"dataframe\">\n",
       "  <thead>\n",
       "    <tr style=\"text-align: right;\">\n",
       "      <th></th>\n",
       "      <th>rx_bytes</th>\n",
       "      <th>rx_desc</th>\n",
       "      <th>tx_bytes</th>\n",
       "      <th>tx_desc</th>\n",
       "    </tr>\n",
       "  </thead>\n",
       "  <tbody>\n",
       "    <tr>\n",
       "      <th>rx_bytes</th>\n",
       "      <td>1.000000</td>\n",
       "      <td>0.981065</td>\n",
       "      <td>-0.670637</td>\n",
       "      <td>-0.671434</td>\n",
       "    </tr>\n",
       "    <tr>\n",
       "      <th>rx_desc</th>\n",
       "      <td>0.981065</td>\n",
       "      <td>1.000000</td>\n",
       "      <td>-0.679852</td>\n",
       "      <td>-0.680795</td>\n",
       "    </tr>\n",
       "    <tr>\n",
       "      <th>tx_bytes</th>\n",
       "      <td>-0.670637</td>\n",
       "      <td>-0.679852</td>\n",
       "      <td>1.000000</td>\n",
       "      <td>0.999850</td>\n",
       "    </tr>\n",
       "    <tr>\n",
       "      <th>tx_desc</th>\n",
       "      <td>-0.671434</td>\n",
       "      <td>-0.680795</td>\n",
       "      <td>0.999850</td>\n",
       "      <td>1.000000</td>\n",
       "    </tr>\n",
       "  </tbody>\n",
       "</table>\n",
       "</div>"
      ],
      "text/plain": [
       "          rx_bytes   rx_desc  tx_bytes   tx_desc\n",
       "rx_bytes  1.000000  0.981065 -0.670637 -0.671434\n",
       "rx_desc   0.981065  1.000000 -0.679852 -0.680795\n",
       "tx_bytes -0.670637 -0.679852  1.000000  0.999850\n",
       "tx_desc  -0.671434 -0.680795  0.999850  1.000000"
      ]
     },
     "execution_count": 127,
     "metadata": {},
     "output_type": "execute_result"
    }
   ],
   "source": [
    "non_counters_corr_dict['10']"
   ]
  },
  {
   "cell_type": "code",
   "execution_count": 128,
   "id": "2ff47c81",
   "metadata": {},
   "outputs": [
    {
     "data": {
      "text/html": [
       "<div>\n",
       "<style scoped>\n",
       "    .dataframe tbody tr th:only-of-type {\n",
       "        vertical-align: middle;\n",
       "    }\n",
       "\n",
       "    .dataframe tbody tr th {\n",
       "        vertical-align: top;\n",
       "    }\n",
       "\n",
       "    .dataframe thead th {\n",
       "        text-align: right;\n",
       "    }\n",
       "</style>\n",
       "<table border=\"1\" class=\"dataframe\">\n",
       "  <thead>\n",
       "    <tr style=\"text-align: right;\">\n",
       "      <th></th>\n",
       "      <th>instructions_diff</th>\n",
       "      <th>cycles_diff</th>\n",
       "      <th>ref_cycles_diff</th>\n",
       "      <th>llc_miss_diff</th>\n",
       "    </tr>\n",
       "  </thead>\n",
       "  <tbody>\n",
       "    <tr>\n",
       "      <th>instructions_diff</th>\n",
       "      <td>1.000000</td>\n",
       "      <td>0.944658</td>\n",
       "      <td>0.944655</td>\n",
       "      <td>0.900707</td>\n",
       "    </tr>\n",
       "    <tr>\n",
       "      <th>cycles_diff</th>\n",
       "      <td>0.944658</td>\n",
       "      <td>1.000000</td>\n",
       "      <td>1.000000</td>\n",
       "      <td>0.942879</td>\n",
       "    </tr>\n",
       "    <tr>\n",
       "      <th>ref_cycles_diff</th>\n",
       "      <td>0.944655</td>\n",
       "      <td>1.000000</td>\n",
       "      <td>1.000000</td>\n",
       "      <td>0.942884</td>\n",
       "    </tr>\n",
       "    <tr>\n",
       "      <th>llc_miss_diff</th>\n",
       "      <td>0.900707</td>\n",
       "      <td>0.942879</td>\n",
       "      <td>0.942884</td>\n",
       "      <td>1.000000</td>\n",
       "    </tr>\n",
       "  </tbody>\n",
       "</table>\n",
       "</div>"
      ],
      "text/plain": [
       "                   instructions_diff  cycles_diff  ref_cycles_diff  \\\n",
       "instructions_diff           1.000000     0.944658         0.944655   \n",
       "cycles_diff                 0.944658     1.000000         1.000000   \n",
       "ref_cycles_diff             0.944655     1.000000         1.000000   \n",
       "llc_miss_diff               0.900707     0.942879         0.942884   \n",
       "\n",
       "                   llc_miss_diff  \n",
       "instructions_diff       0.900707  \n",
       "cycles_diff             0.942879  \n",
       "ref_cycles_diff         0.942884  \n",
       "llc_miss_diff           1.000000  "
      ]
     },
     "execution_count": 128,
     "metadata": {},
     "output_type": "execute_result"
    }
   ],
   "source": [
    "merged_counters_corr"
   ]
  },
  {
   "cell_type": "code",
   "execution_count": 129,
   "id": "a014df5b",
   "metadata": {
    "scrolled": false
   },
   "outputs": [
    {
     "data": {
      "text/html": [
       "<div>\n",
       "<style scoped>\n",
       "    .dataframe tbody tr th:only-of-type {\n",
       "        vertical-align: middle;\n",
       "    }\n",
       "\n",
       "    .dataframe tbody tr th {\n",
       "        vertical-align: top;\n",
       "    }\n",
       "\n",
       "    .dataframe thead th {\n",
       "        text-align: right;\n",
       "    }\n",
       "</style>\n",
       "<table border=\"1\" class=\"dataframe\">\n",
       "  <thead>\n",
       "    <tr style=\"text-align: right;\">\n",
       "      <th></th>\n",
       "      <th>rx_bytes</th>\n",
       "      <th>rx_desc</th>\n",
       "      <th>tx_bytes</th>\n",
       "      <th>tx_desc</th>\n",
       "    </tr>\n",
       "  </thead>\n",
       "  <tbody>\n",
       "    <tr>\n",
       "      <th>rx_bytes</th>\n",
       "      <td>1.000000</td>\n",
       "      <td>0.980979</td>\n",
       "      <td>-0.607758</td>\n",
       "      <td>-0.610090</td>\n",
       "    </tr>\n",
       "    <tr>\n",
       "      <th>rx_desc</th>\n",
       "      <td>0.980979</td>\n",
       "      <td>1.000000</td>\n",
       "      <td>-0.617714</td>\n",
       "      <td>-0.620197</td>\n",
       "    </tr>\n",
       "    <tr>\n",
       "      <th>tx_bytes</th>\n",
       "      <td>-0.607758</td>\n",
       "      <td>-0.617714</td>\n",
       "      <td>1.000000</td>\n",
       "      <td>0.999187</td>\n",
       "    </tr>\n",
       "    <tr>\n",
       "      <th>tx_desc</th>\n",
       "      <td>-0.610090</td>\n",
       "      <td>-0.620197</td>\n",
       "      <td>0.999187</td>\n",
       "      <td>1.000000</td>\n",
       "    </tr>\n",
       "  </tbody>\n",
       "</table>\n",
       "</div>"
      ],
      "text/plain": [
       "          rx_bytes   rx_desc  tx_bytes   tx_desc\n",
       "rx_bytes  1.000000  0.980979 -0.607758 -0.610090\n",
       "rx_desc   0.980979  1.000000 -0.617714 -0.620197\n",
       "tx_bytes -0.607758 -0.617714  1.000000  0.999187\n",
       "tx_desc  -0.610090 -0.620197  0.999187  1.000000"
      ]
     },
     "execution_count": 129,
     "metadata": {},
     "output_type": "execute_result"
    }
   ],
   "source": [
    "merged_non_counters_corr"
   ]
  },
  {
   "cell_type": "code",
   "execution_count": 144,
   "id": "67dd0405",
   "metadata": {},
   "outputs": [],
   "source": [
    "from numpy.linalg import eig, eigvalsh\n",
    "\n",
    "def get_eig_vals(cores, counters_corr_dict, non_counters_corr_dict, merged_counters_corr, merged_non_counters_corr):\n",
    "    all_core_eigvals = {}\n",
    "    for c in cores:\n",
    "        counter_vals, vecs = eig(counters_corr_dict[str(c)])\n",
    "        for i in range(0, len(counter_vals)):\n",
    "            counter_vals[i] = counter_vals[i] / counter_vals[0]\n",
    "        non_counter_vals, vecs = eig(non_counters_corr_dict[str(c)])\n",
    "        for i in range(0, len(non_counter_vals)):\n",
    "            non_counter_vals[i] = non_counter_vals[i] / non_counter_vals[0]\n",
    "        all_core_eigvals[str(c)] = np.concatenate([np.log(counter_vals[1:4]) , np.log(non_counter_vals[1:4])])\n",
    "        #all_core_eigvals[str(c)] = np.concatenate([counter_vals , non_counter_vals])\n",
    "\n",
    "    merged_counter_vals, merged_vecs = eig(merged_counters_corr)\n",
    "    for i in range(0, len(merged_counter_vals)):\n",
    "        merged_counter_vals[i] = merged_counter_vals[i] / merged_counter_vals[0]\n",
    "    merged_non_counter_vals, merged_vecs = eig(merged_non_counters_corr)\n",
    "    for i in range(0, len(merged_non_counter_vals)):\n",
    "        merged_non_counter_vals[i] = merged_non_counter_vals[i] / merged_non_counter_vals[0]\n",
    "    #all_core_eigvals['merged'] = np.concatenate([np.log(merged_counter_vals[1:4]), np.log(merged_non_counter_vals[1:4])])\n",
    "    all_core_eigvals['merged'] = np.concatenate([merged_counter_vals[1:4], merged_non_counter_vals[1:4]])\n",
    "    \n",
    "    return all_core_eigvals"
   ]
  },
  {
   "cell_type": "code",
   "execution_count": 145,
   "id": "7afd014e",
   "metadata": {},
   "outputs": [],
   "source": [
    "def plot_eig_vals(eig_dict, dvfs, qps, itr, app):\n",
    "    plt.figure(figsize=(10,6))\n",
    "    num_eig = len(list(eig_dict.values())[0])\n",
    "    eig_list = [str(i) for i in range(0, num_eig)]\n",
    "    for core in eig_dict.keys():\n",
    "        vals = eig_dict[core]\n",
    "        #print(vals)\n",
    "        plt.plot(eig_list, vals, 'p')\n",
    "    plt.plot(eig_list, eig_dict['merged'], 'x')    \n",
    "    plt.xlabel('eig_id')\n",
    "    plt.ylabel('eig_val')\n",
    "    plt.ylim(-25)\n",
    "    #plt.title(f'{app}: Eigvals of {len(cores) + 1} Corr Matrices for ITR-DELAY = {itr}, DVFS = {dvfs}, QPS = {qps}')\n",
    "    plt.title(f'{app}: Eigvals (log=false) of {len(cores) + 1} Corr Matrices for ITR-DELAY = {itr}, DVFS = {dvfs}, QPS = {qps}')\n",
    "    plt.show()\n",
    "    plt.savefig(app_dir + 'plots/eigvals_'+ dvfs + '_' + qps + '_' + itr)"
   ]
  },
  {
   "cell_type": "code",
   "execution_count": 146,
   "id": "0e4d97d6",
   "metadata": {},
   "outputs": [],
   "source": [
    "eig_vals = get_eig_vals(cores, counters_corr_dict, non_counters_corr_dict, merged_counters_corr, merged_non_counters_corr)"
   ]
  },
  {
   "cell_type": "code",
   "execution_count": 147,
   "id": "de462131",
   "metadata": {},
   "outputs": [
    {
     "data": {
      "text/plain": [
       "{'0': array([ -1.64422406,  -2.4779479 , -14.5886004 ,   0.46323053,\n",
       "         -3.95623127,  -7.72305432]),\n",
       " '1': array([ -1.93666619,  -2.61017196, -15.77186453,   0.3689051 ,\n",
       "         -4.05132579,  -8.05808904]),\n",
       " '10': array([ -2.20352355,  -2.73993516, -16.73504035,   0.30891093,\n",
       "         -4.07126731,  -8.36476165]),\n",
       " '11': array([ -2.36829507,  -3.02683261, -16.05197142,   0.19536627,\n",
       "         -4.11416538,  -8.69515371]),\n",
       " '12': array([ -1.98233016,  -2.56610631, -14.97092627,   0.36666918,\n",
       "         -4.05113219,  -8.12985099]),\n",
       " '13': array([ -2.37257083,  -3.00401577, -20.07180251,   0.20427497,\n",
       "         -4.08774583,  -8.71169116]),\n",
       " '14': array([ -2.39225664,  -2.87339998, -20.12185428,   0.25199274,\n",
       "         -4.14458709,  -8.64391776]),\n",
       " '2': array([ -2.52255161,  -3.00687966, -15.26489708,   0.14759941,\n",
       "         -4.04861854,  -8.87205253]),\n",
       " '3': array([ -2.01838621,  -2.64190799, -13.82986067,   0.32605897,\n",
       "         -4.07937477,  -8.30232447]),\n",
       " '4': array([ -2.53839576,  -3.01952342, -14.46844515,   0.09290125,\n",
       "         -4.04775504,  -8.73731587]),\n",
       " '5': array([ -2.22205199,  -2.89181851, -17.95930001,   0.2712044 ,\n",
       "         -4.10728934,  -8.46259979]),\n",
       " '6': array([ -2.44920233,  -2.89155921, -16.71371171,   0.19718481,\n",
       "         -4.12575569,  -8.73357928]),\n",
       " '7': array([ -2.4371806 ,  -2.99363933, -14.9850983 ,   0.15471753,\n",
       "         -4.07881761,  -8.83843323]),\n",
       " '8': array([ -1.37702534,  -2.32964075, -14.54903823,   0.55015474,\n",
       "         -3.77553019,  -7.17176896]),\n",
       " '9': array([ -1.84168251,  -2.57395095, -13.69550441,   0.390345  ,\n",
       "         -4.01252736,  -8.0108032 ]),\n",
       " 'merged': array([9.94304015e-02, 5.59639913e-02, 2.29003228e-07, 1.40106345e+00,\n",
       "        1.77694123e-02, 2.94630258e-04])}"
      ]
     },
     "execution_count": 147,
     "metadata": {},
     "output_type": "execute_result"
    }
   ],
   "source": [
    "eig_vals"
   ]
  },
  {
   "cell_type": "code",
   "execution_count": 148,
   "id": "3a4cd0fa",
   "metadata": {
    "scrolled": false
   },
   "outputs": [
    {
     "data": {
      "image/png": "[encoded data removed]",
      "text/plain": [
       "<Figure size 1000x600 with 1 Axes>"
      ]
     },
     "metadata": {},
     "output_type": "display_data"
    },
    {
     "data": {
      "text/plain": [
       "<Figure size 640x480 with 0 Axes>"
      ]
     },
     "metadata": {},
     "output_type": "display_data"
    }
   ],
   "source": [
    "plot_eig_vals(eig_vals, '0x1300', '200k', '20', app)"
   ]
  },
  {
   "cell_type": "code",
   "execution_count": 137,
   "id": "c481b1f5",
   "metadata": {
    "scrolled": false
   },
   "outputs": [
    {
     "name": "stdout",
     "output_type": "stream",
     "text": [
      "Uncompressing log file..\n",
      "mcdsilo_0_rapl_135/200k_qps/linux_mcdsilo_dmesg_0_0x1300_135_200k/linux.mcdsilo.dmesg.0_0_10_0x1300_135_200000.gz:\t 81.6% -- replaced with mcdsilo_0_rapl_135/200k_qps/linux_mcdsilo_dmesg_0_0x1300_135_200k/linux.mcdsilo.dmesg.0_0_10_0x1300_135_200000\n",
      "Compressing log file..\n",
      "mcdsilo_0_rapl_135/200k_qps/linux_mcdsilo_dmesg_0_0x1300_135_200k/linux.mcdsilo.dmesg.0_0_10_0x1300_135_200000:\t 81.6% -- replaced with mcdsilo_0_rapl_135/200k_qps/linux_mcdsilo_dmesg_0_0x1300_135_200k/linux.mcdsilo.dmesg.0_0_10_0x1300_135_200000.gz\n",
      "Uncompressing log file..\n",
      "mcdsilo_0_rapl_135/200k_qps/linux_mcdsilo_dmesg_0_0x1300_135_200k/linux.mcdsilo.dmesg.0_1_10_0x1300_135_200000.gz:\t 81.1% -- replaced with mcdsilo_0_rapl_135/200k_qps/linux_mcdsilo_dmesg_0_0x1300_135_200k/linux.mcdsilo.dmesg.0_1_10_0x1300_135_200000\n",
      "Compressing log file..\n",
      "mcdsilo_0_rapl_135/200k_qps/linux_mcdsilo_dmesg_0_0x1300_135_200k/linux.mcdsilo.dmesg.0_1_10_0x1300_135_200000:\t 81.1% -- replaced with mcdsilo_0_rapl_135/200k_qps/linux_mcdsilo_dmesg_0_0x1300_135_200k/linux.mcdsilo.dmesg.0_1_10_0x1300_135_200000.gz\n",
      "Uncompressing log file..\n",
      "mcdsilo_0_rapl_135/200k_qps/linux_mcdsilo_dmesg_0_0x1300_135_200k/linux.mcdsilo.dmesg.0_10_10_0x1300_135_200000.gz:\t 81.4% -- replaced with mcdsilo_0_rapl_135/200k_qps/linux_mcdsilo_dmesg_0_0x1300_135_200k/linux.mcdsilo.dmesg.0_10_10_0x1300_135_200000\n",
      "Compressing log file..\n",
      "mcdsilo_0_rapl_135/200k_qps/linux_mcdsilo_dmesg_0_0x1300_135_200k/linux.mcdsilo.dmesg.0_10_10_0x1300_135_200000:\t 81.4% -- replaced with mcdsilo_0_rapl_135/200k_qps/linux_mcdsilo_dmesg_0_0x1300_135_200k/linux.mcdsilo.dmesg.0_10_10_0x1300_135_200000.gz\n",
      "Uncompressing log file..\n",
      "mcdsilo_0_rapl_135/200k_qps/linux_mcdsilo_dmesg_0_0x1300_135_200k/linux.mcdsilo.dmesg.0_11_10_0x1300_135_200000.gz:\t 81.1% -- replaced with mcdsilo_0_rapl_135/200k_qps/linux_mcdsilo_dmesg_0_0x1300_135_200k/linux.mcdsilo.dmesg.0_11_10_0x1300_135_200000\n",
      "Compressing log file..\n",
      "mcdsilo_0_rapl_135/200k_qps/linux_mcdsilo_dmesg_0_0x1300_135_200k/linux.mcdsilo.dmesg.0_11_10_0x1300_135_200000:\t 81.1% -- replaced with mcdsilo_0_rapl_135/200k_qps/linux_mcdsilo_dmesg_0_0x1300_135_200k/linux.mcdsilo.dmesg.0_11_10_0x1300_135_200000.gz\n",
      "Uncompressing log file..\n",
      "mcdsilo_0_rapl_135/200k_qps/linux_mcdsilo_dmesg_0_0x1300_135_200k/linux.mcdsilo.dmesg.0_12_10_0x1300_135_200000.gz:\t 81.6% -- replaced with mcdsilo_0_rapl_135/200k_qps/linux_mcdsilo_dmesg_0_0x1300_135_200k/linux.mcdsilo.dmesg.0_12_10_0x1300_135_200000\n",
      "Compressing log file..\n",
      "mcdsilo_0_rapl_135/200k_qps/linux_mcdsilo_dmesg_0_0x1300_135_200k/linux.mcdsilo.dmesg.0_12_10_0x1300_135_200000:\t 81.6% -- replaced with mcdsilo_0_rapl_135/200k_qps/linux_mcdsilo_dmesg_0_0x1300_135_200k/linux.mcdsilo.dmesg.0_12_10_0x1300_135_200000.gz\n",
      "Uncompressing log file..\n",
      "mcdsilo_0_rapl_135/200k_qps/linux_mcdsilo_dmesg_0_0x1300_135_200k/linux.mcdsilo.dmesg.0_13_10_0x1300_135_200000.gz:\t 80.5% -- replaced with mcdsilo_0_rapl_135/200k_qps/linux_mcdsilo_dmesg_0_0x1300_135_200k/linux.mcdsilo.dmesg.0_13_10_0x1300_135_200000\n",
      "Compressing log file..\n",
      "mcdsilo_0_rapl_135/200k_qps/linux_mcdsilo_dmesg_0_0x1300_135_200k/linux.mcdsilo.dmesg.0_13_10_0x1300_135_200000:\t 80.5% -- replaced with mcdsilo_0_rapl_135/200k_qps/linux_mcdsilo_dmesg_0_0x1300_135_200k/linux.mcdsilo.dmesg.0_13_10_0x1300_135_200000.gz\n",
      "Uncompressing log file..\n",
      "mcdsilo_0_rapl_135/200k_qps/linux_mcdsilo_dmesg_0_0x1300_135_200k/linux.mcdsilo.dmesg.0_14_10_0x1300_135_200000.gz:\t 81.1% -- replaced with mcdsilo_0_rapl_135/200k_qps/linux_mcdsilo_dmesg_0_0x1300_135_200k/linux.mcdsilo.dmesg.0_14_10_0x1300_135_200000\n",
      "Compressing log file..\n",
      "mcdsilo_0_rapl_135/200k_qps/linux_mcdsilo_dmesg_0_0x1300_135_200k/linux.mcdsilo.dmesg.0_14_10_0x1300_135_200000:\t 81.1% -- replaced with mcdsilo_0_rapl_135/200k_qps/linux_mcdsilo_dmesg_0_0x1300_135_200k/linux.mcdsilo.dmesg.0_14_10_0x1300_135_200000.gz\n",
      "Uncompressing log file..\n",
      "mcdsilo_0_rapl_135/200k_qps/linux_mcdsilo_dmesg_0_0x1300_135_200k/linux.mcdsilo.dmesg.0_2_10_0x1300_135_200000.gz:\t 80.8% -- replaced with mcdsilo_0_rapl_135/200k_qps/linux_mcdsilo_dmesg_0_0x1300_135_200k/linux.mcdsilo.dmesg.0_2_10_0x1300_135_200000\n",
      "Compressing log file..\n",
      "mcdsilo_0_rapl_135/200k_qps/linux_mcdsilo_dmesg_0_0x1300_135_200k/linux.mcdsilo.dmesg.0_2_10_0x1300_135_200000:\t 80.8% -- replaced with mcdsilo_0_rapl_135/200k_qps/linux_mcdsilo_dmesg_0_0x1300_135_200k/linux.mcdsilo.dmesg.0_2_10_0x1300_135_200000.gz\n",
      "Uncompressing log file..\n",
      "mcdsilo_0_rapl_135/200k_qps/linux_mcdsilo_dmesg_0_0x1300_135_200k/linux.mcdsilo.dmesg.0_3_10_0x1300_135_200000.gz:\t 81.1% -- replaced with mcdsilo_0_rapl_135/200k_qps/linux_mcdsilo_dmesg_0_0x1300_135_200k/linux.mcdsilo.dmesg.0_3_10_0x1300_135_200000\n",
      "Compressing log file..\n",
      "mcdsilo_0_rapl_135/200k_qps/linux_mcdsilo_dmesg_0_0x1300_135_200k/linux.mcdsilo.dmesg.0_3_10_0x1300_135_200000:\t 81.1% -- replaced with mcdsilo_0_rapl_135/200k_qps/linux_mcdsilo_dmesg_0_0x1300_135_200k/linux.mcdsilo.dmesg.0_3_10_0x1300_135_200000.gz\n",
      "Uncompressing log file..\n",
      "mcdsilo_0_rapl_135/200k_qps/linux_mcdsilo_dmesg_0_0x1300_135_200k/linux.mcdsilo.dmesg.0_4_10_0x1300_135_200000.gz:\t 81.4% -- replaced with mcdsilo_0_rapl_135/200k_qps/linux_mcdsilo_dmesg_0_0x1300_135_200k/linux.mcdsilo.dmesg.0_4_10_0x1300_135_200000\n",
      "Compressing log file..\n",
      "mcdsilo_0_rapl_135/200k_qps/linux_mcdsilo_dmesg_0_0x1300_135_200k/linux.mcdsilo.dmesg.0_4_10_0x1300_135_200000:\t 81.4% -- replaced with mcdsilo_0_rapl_135/200k_qps/linux_mcdsilo_dmesg_0_0x1300_135_200k/linux.mcdsilo.dmesg.0_4_10_0x1300_135_200000.gz\n",
      "Uncompressing log file..\n",
      "mcdsilo_0_rapl_135/200k_qps/linux_mcdsilo_dmesg_0_0x1300_135_200k/linux.mcdsilo.dmesg.0_5_10_0x1300_135_200000.gz:\t 81.2% -- replaced with mcdsilo_0_rapl_135/200k_qps/linux_mcdsilo_dmesg_0_0x1300_135_200k/linux.mcdsilo.dmesg.0_5_10_0x1300_135_200000\n",
      "Compressing log file..\n",
      "mcdsilo_0_rapl_135/200k_qps/linux_mcdsilo_dmesg_0_0x1300_135_200k/linux.mcdsilo.dmesg.0_5_10_0x1300_135_200000:\t 81.2% -- replaced with mcdsilo_0_rapl_135/200k_qps/linux_mcdsilo_dmesg_0_0x1300_135_200k/linux.mcdsilo.dmesg.0_5_10_0x1300_135_200000.gz\n",
      "Uncompressing log file..\n",
      "mcdsilo_0_rapl_135/200k_qps/linux_mcdsilo_dmesg_0_0x1300_135_200k/linux.mcdsilo.dmesg.0_6_10_0x1300_135_200000.gz:\t 81.0% -- replaced with mcdsilo_0_rapl_135/200k_qps/linux_mcdsilo_dmesg_0_0x1300_135_200k/linux.mcdsilo.dmesg.0_6_10_0x1300_135_200000\n",
      "Compressing log file..\n",
      "mcdsilo_0_rapl_135/200k_qps/linux_mcdsilo_dmesg_0_0x1300_135_200k/linux.mcdsilo.dmesg.0_6_10_0x1300_135_200000:\t 81.0% -- replaced with mcdsilo_0_rapl_135/200k_qps/linux_mcdsilo_dmesg_0_0x1300_135_200k/linux.mcdsilo.dmesg.0_6_10_0x1300_135_200000.gz\n",
      "Uncompressing log file..\n",
      "mcdsilo_0_rapl_135/200k_qps/linux_mcdsilo_dmesg_0_0x1300_135_200k/linux.mcdsilo.dmesg.0_7_10_0x1300_135_200000.gz:\t 81.6% -- replaced with mcdsilo_0_rapl_135/200k_qps/linux_mcdsilo_dmesg_0_0x1300_135_200k/linux.mcdsilo.dmesg.0_7_10_0x1300_135_200000\n",
      "Compressing log file..\n",
      "mcdsilo_0_rapl_135/200k_qps/linux_mcdsilo_dmesg_0_0x1300_135_200k/linux.mcdsilo.dmesg.0_7_10_0x1300_135_200000:\t 81.6% -- replaced with mcdsilo_0_rapl_135/200k_qps/linux_mcdsilo_dmesg_0_0x1300_135_200k/linux.mcdsilo.dmesg.0_7_10_0x1300_135_200000.gz\n",
      "Uncompressing log file..\n",
      "mcdsilo_0_rapl_135/200k_qps/linux_mcdsilo_dmesg_0_0x1300_135_200k/linux.mcdsilo.dmesg.0_8_10_0x1300_135_200000.gz:\t 81.1% -- replaced with mcdsilo_0_rapl_135/200k_qps/linux_mcdsilo_dmesg_0_0x1300_135_200k/linux.mcdsilo.dmesg.0_8_10_0x1300_135_200000\n",
      "Compressing log file..\n",
      "mcdsilo_0_rapl_135/200k_qps/linux_mcdsilo_dmesg_0_0x1300_135_200k/linux.mcdsilo.dmesg.0_8_10_0x1300_135_200000:\t 81.1% -- replaced with mcdsilo_0_rapl_135/200k_qps/linux_mcdsilo_dmesg_0_0x1300_135_200k/linux.mcdsilo.dmesg.0_8_10_0x1300_135_200000.gz\n",
      "Uncompressing log file..\n",
      "mcdsilo_0_rapl_135/200k_qps/linux_mcdsilo_dmesg_0_0x1300_135_200k/linux.mcdsilo.dmesg.0_9_10_0x1300_135_200000.gz:\t 81.2% -- replaced with mcdsilo_0_rapl_135/200k_qps/linux_mcdsilo_dmesg_0_0x1300_135_200k/linux.mcdsilo.dmesg.0_9_10_0x1300_135_200000\n",
      "Compressing log file..\n",
      "mcdsilo_0_rapl_135/200k_qps/linux_mcdsilo_dmesg_0_0x1300_135_200k/linux.mcdsilo.dmesg.0_9_10_0x1300_135_200000:\t 81.2% -- replaced with mcdsilo_0_rapl_135/200k_qps/linux_mcdsilo_dmesg_0_0x1300_135_200k/linux.mcdsilo.dmesg.0_9_10_0x1300_135_200000.gz\n"
     ]
    },
    {
     "name": "stdout",
     "output_type": "stream",
     "text": [
      "Uncompressing merged log files..\n",
      "mcdsilo_0_rapl_135/200k_merged/200k_0x1300_counters_merged/0x1300_200k_10_counters_merged.gz:\t 65.5% -- replaced with mcdsilo_0_rapl_135/200k_merged/200k_0x1300_counters_merged/0x1300_200k_10_counters_merged\n",
      "mcdsilo_0_rapl_135/200k_merged/200k_0x1300_non_counters_merged/0x1300_200k_10_non_counters_merged.gz:\t 74.5% -- replaced with mcdsilo_0_rapl_135/200k_merged/200k_0x1300_non_counters_merged/0x1300_200k_10_non_counters_merged\n",
      "Compressing merged log files..\n",
      "mcdsilo_0_rapl_135/200k_merged/200k_0x1300_counters_merged/0x1300_200k_10_counters_merged:\t 65.5% -- replaced with mcdsilo_0_rapl_135/200k_merged/200k_0x1300_counters_merged/0x1300_200k_10_counters_merged.gz\n",
      "mcdsilo_0_rapl_135/200k_merged/200k_0x1300_non_counters_merged/0x1300_200k_10_non_counters_merged:\t 74.5% -- replaced with mcdsilo_0_rapl_135/200k_merged/200k_0x1300_non_counters_merged/0x1300_200k_10_non_counters_merged.gz\n"
     ]
    },
    {
     "data": {
      "image/png": "[encoded data removed]",
      "text/plain": [
       "<Figure size 1000x600 with 1 Axes>"
      ]
     },
     "metadata": {},
     "output_type": "display_data"
    },
    {
     "name": "stdout",
     "output_type": "stream",
     "text": [
      "Uncompressing log file..\n",
      "mcdsilo_0_rapl_135/200k_qps/linux_mcdsilo_dmesg_0_0x1300_135_200k/linux.mcdsilo.dmesg.0_0_40_0x1300_135_200000.gz:\t 80.2% -- replaced with mcdsilo_0_rapl_135/200k_qps/linux_mcdsilo_dmesg_0_0x1300_135_200k/linux.mcdsilo.dmesg.0_0_40_0x1300_135_200000\n",
      "Compressing log file..\n",
      "mcdsilo_0_rapl_135/200k_qps/linux_mcdsilo_dmesg_0_0x1300_135_200k/linux.mcdsilo.dmesg.0_0_40_0x1300_135_200000:\t 80.2% -- replaced with mcdsilo_0_rapl_135/200k_qps/linux_mcdsilo_dmesg_0_0x1300_135_200k/linux.mcdsilo.dmesg.0_0_40_0x1300_135_200000.gz\n",
      "Uncompressing log file..\n",
      "mcdsilo_0_rapl_135/200k_qps/linux_mcdsilo_dmesg_0_0x1300_135_200k/linux.mcdsilo.dmesg.0_1_40_0x1300_135_200000.gz:\t 80.1% -- replaced with mcdsilo_0_rapl_135/200k_qps/linux_mcdsilo_dmesg_0_0x1300_135_200k/linux.mcdsilo.dmesg.0_1_40_0x1300_135_200000\n",
      "Compressing log file..\n",
      "mcdsilo_0_rapl_135/200k_qps/linux_mcdsilo_dmesg_0_0x1300_135_200k/linux.mcdsilo.dmesg.0_1_40_0x1300_135_200000:\t 80.1% -- replaced with mcdsilo_0_rapl_135/200k_qps/linux_mcdsilo_dmesg_0_0x1300_135_200k/linux.mcdsilo.dmesg.0_1_40_0x1300_135_200000.gz\n",
      "Uncompressing log file..\n",
      "mcdsilo_0_rapl_135/200k_qps/linux_mcdsilo_dmesg_0_0x1300_135_200k/linux.mcdsilo.dmesg.0_10_40_0x1300_135_200000.gz:\t 80.1% -- replaced with mcdsilo_0_rapl_135/200k_qps/linux_mcdsilo_dmesg_0_0x1300_135_200k/linux.mcdsilo.dmesg.0_10_40_0x1300_135_200000\n",
      "Compressing log file..\n",
      "mcdsilo_0_rapl_135/200k_qps/linux_mcdsilo_dmesg_0_0x1300_135_200k/linux.mcdsilo.dmesg.0_10_40_0x1300_135_200000:\t 80.1% -- replaced with mcdsilo_0_rapl_135/200k_qps/linux_mcdsilo_dmesg_0_0x1300_135_200k/linux.mcdsilo.dmesg.0_10_40_0x1300_135_200000.gz\n",
      "Uncompressing log file..\n",
      "mcdsilo_0_rapl_135/200k_qps/linux_mcdsilo_dmesg_0_0x1300_135_200k/linux.mcdsilo.dmesg.0_11_40_0x1300_135_200000.gz:\t 79.9% -- replaced with mcdsilo_0_rapl_135/200k_qps/linux_mcdsilo_dmesg_0_0x1300_135_200k/linux.mcdsilo.dmesg.0_11_40_0x1300_135_200000\n",
      "Compressing log file..\n",
      "mcdsilo_0_rapl_135/200k_qps/linux_mcdsilo_dmesg_0_0x1300_135_200k/linux.mcdsilo.dmesg.0_11_40_0x1300_135_200000:\t 79.9% -- replaced with mcdsilo_0_rapl_135/200k_qps/linux_mcdsilo_dmesg_0_0x1300_135_200k/linux.mcdsilo.dmesg.0_11_40_0x1300_135_200000.gz\n",
      "Uncompressing log file..\n",
      "mcdsilo_0_rapl_135/200k_qps/linux_mcdsilo_dmesg_0_0x1300_135_200k/linux.mcdsilo.dmesg.0_12_40_0x1300_135_200000.gz:\t 80.1% -- replaced with mcdsilo_0_rapl_135/200k_qps/linux_mcdsilo_dmesg_0_0x1300_135_200k/linux.mcdsilo.dmesg.0_12_40_0x1300_135_200000\n",
      "Compressing log file..\n",
      "mcdsilo_0_rapl_135/200k_qps/linux_mcdsilo_dmesg_0_0x1300_135_200k/linux.mcdsilo.dmesg.0_12_40_0x1300_135_200000:\t 80.1% -- replaced with mcdsilo_0_rapl_135/200k_qps/linux_mcdsilo_dmesg_0_0x1300_135_200k/linux.mcdsilo.dmesg.0_12_40_0x1300_135_200000.gz\n",
      "Uncompressing log file..\n",
      "mcdsilo_0_rapl_135/200k_qps/linux_mcdsilo_dmesg_0_0x1300_135_200k/linux.mcdsilo.dmesg.0_13_40_0x1300_135_200000.gz:\t 79.9% -- replaced with mcdsilo_0_rapl_135/200k_qps/linux_mcdsilo_dmesg_0_0x1300_135_200k/linux.mcdsilo.dmesg.0_13_40_0x1300_135_200000\n",
      "Compressing log file..\n",
      "mcdsilo_0_rapl_135/200k_qps/linux_mcdsilo_dmesg_0_0x1300_135_200k/linux.mcdsilo.dmesg.0_13_40_0x1300_135_200000:\t 79.9% -- replaced with mcdsilo_0_rapl_135/200k_qps/linux_mcdsilo_dmesg_0_0x1300_135_200k/linux.mcdsilo.dmesg.0_13_40_0x1300_135_200000.gz\n",
      "Uncompressing log file..\n",
      "mcdsilo_0_rapl_135/200k_qps/linux_mcdsilo_dmesg_0_0x1300_135_200k/linux.mcdsilo.dmesg.0_14_40_0x1300_135_200000.gz:\t 80.0% -- replaced with mcdsilo_0_rapl_135/200k_qps/linux_mcdsilo_dmesg_0_0x1300_135_200k/linux.mcdsilo.dmesg.0_14_40_0x1300_135_200000\n",
      "Compressing log file..\n",
      "mcdsilo_0_rapl_135/200k_qps/linux_mcdsilo_dmesg_0_0x1300_135_200k/linux.mcdsilo.dmesg.0_14_40_0x1300_135_200000:\t 80.0% -- replaced with mcdsilo_0_rapl_135/200k_qps/linux_mcdsilo_dmesg_0_0x1300_135_200k/linux.mcdsilo.dmesg.0_14_40_0x1300_135_200000.gz\n",
      "Uncompressing log file..\n",
      "mcdsilo_0_rapl_135/200k_qps/linux_mcdsilo_dmesg_0_0x1300_135_200k/linux.mcdsilo.dmesg.0_2_40_0x1300_135_200000.gz:\t 79.8% -- replaced with mcdsilo_0_rapl_135/200k_qps/linux_mcdsilo_dmesg_0_0x1300_135_200k/linux.mcdsilo.dmesg.0_2_40_0x1300_135_200000\n",
      "Compressing log file..\n",
      "mcdsilo_0_rapl_135/200k_qps/linux_mcdsilo_dmesg_0_0x1300_135_200k/linux.mcdsilo.dmesg.0_2_40_0x1300_135_200000:\t 79.8% -- replaced with mcdsilo_0_rapl_135/200k_qps/linux_mcdsilo_dmesg_0_0x1300_135_200k/linux.mcdsilo.dmesg.0_2_40_0x1300_135_200000.gz\n",
      "Uncompressing log file..\n",
      "mcdsilo_0_rapl_135/200k_qps/linux_mcdsilo_dmesg_0_0x1300_135_200k/linux.mcdsilo.dmesg.0_3_40_0x1300_135_200000.gz:\t 80.1% -- replaced with mcdsilo_0_rapl_135/200k_qps/linux_mcdsilo_dmesg_0_0x1300_135_200k/linux.mcdsilo.dmesg.0_3_40_0x1300_135_200000\n",
      "Compressing log file..\n",
      "mcdsilo_0_rapl_135/200k_qps/linux_mcdsilo_dmesg_0_0x1300_135_200k/linux.mcdsilo.dmesg.0_3_40_0x1300_135_200000:\t 80.1% -- replaced with mcdsilo_0_rapl_135/200k_qps/linux_mcdsilo_dmesg_0_0x1300_135_200k/linux.mcdsilo.dmesg.0_3_40_0x1300_135_200000.gz\n",
      "Uncompressing log file..\n",
      "mcdsilo_0_rapl_135/200k_qps/linux_mcdsilo_dmesg_0_0x1300_135_200k/linux.mcdsilo.dmesg.0_4_40_0x1300_135_200000.gz:\t 79.6% -- replaced with mcdsilo_0_rapl_135/200k_qps/linux_mcdsilo_dmesg_0_0x1300_135_200k/linux.mcdsilo.dmesg.0_4_40_0x1300_135_200000\n",
      "Compressing log file..\n",
      "mcdsilo_0_rapl_135/200k_qps/linux_mcdsilo_dmesg_0_0x1300_135_200k/linux.mcdsilo.dmesg.0_4_40_0x1300_135_200000:\t 79.6% -- replaced with mcdsilo_0_rapl_135/200k_qps/linux_mcdsilo_dmesg_0_0x1300_135_200k/linux.mcdsilo.dmesg.0_4_40_0x1300_135_200000.gz\n",
      "Uncompressing log file..\n",
      "mcdsilo_0_rapl_135/200k_qps/linux_mcdsilo_dmesg_0_0x1300_135_200k/linux.mcdsilo.dmesg.0_5_40_0x1300_135_200000.gz:\t 80.0% -- replaced with mcdsilo_0_rapl_135/200k_qps/linux_mcdsilo_dmesg_0_0x1300_135_200k/linux.mcdsilo.dmesg.0_5_40_0x1300_135_200000\n",
      "Compressing log file..\n",
      "mcdsilo_0_rapl_135/200k_qps/linux_mcdsilo_dmesg_0_0x1300_135_200k/linux.mcdsilo.dmesg.0_5_40_0x1300_135_200000:\t 80.0% -- replaced with mcdsilo_0_rapl_135/200k_qps/linux_mcdsilo_dmesg_0_0x1300_135_200k/linux.mcdsilo.dmesg.0_5_40_0x1300_135_200000.gz\n",
      "Uncompressing log file..\n",
      "mcdsilo_0_rapl_135/200k_qps/linux_mcdsilo_dmesg_0_0x1300_135_200k/linux.mcdsilo.dmesg.0_6_40_0x1300_135_200000.gz:\t 79.9% -- replaced with mcdsilo_0_rapl_135/200k_qps/linux_mcdsilo_dmesg_0_0x1300_135_200k/linux.mcdsilo.dmesg.0_6_40_0x1300_135_200000\n",
      "Compressing log file..\n",
      "mcdsilo_0_rapl_135/200k_qps/linux_mcdsilo_dmesg_0_0x1300_135_200k/linux.mcdsilo.dmesg.0_6_40_0x1300_135_200000:\t 79.9% -- replaced with mcdsilo_0_rapl_135/200k_qps/linux_mcdsilo_dmesg_0_0x1300_135_200k/linux.mcdsilo.dmesg.0_6_40_0x1300_135_200000.gz\n",
      "Uncompressing log file..\n",
      "mcdsilo_0_rapl_135/200k_qps/linux_mcdsilo_dmesg_0_0x1300_135_200k/linux.mcdsilo.dmesg.0_7_40_0x1300_135_200000.gz:\t 79.9% -- replaced with mcdsilo_0_rapl_135/200k_qps/linux_mcdsilo_dmesg_0_0x1300_135_200k/linux.mcdsilo.dmesg.0_7_40_0x1300_135_200000\n",
      "Compressing log file..\n",
      "mcdsilo_0_rapl_135/200k_qps/linux_mcdsilo_dmesg_0_0x1300_135_200k/linux.mcdsilo.dmesg.0_7_40_0x1300_135_200000:\t 79.9% -- replaced with mcdsilo_0_rapl_135/200k_qps/linux_mcdsilo_dmesg_0_0x1300_135_200k/linux.mcdsilo.dmesg.0_7_40_0x1300_135_200000.gz\n",
      "Uncompressing log file..\n",
      "mcdsilo_0_rapl_135/200k_qps/linux_mcdsilo_dmesg_0_0x1300_135_200k/linux.mcdsilo.dmesg.0_8_40_0x1300_135_200000.gz:\t 80.2% -- replaced with mcdsilo_0_rapl_135/200k_qps/linux_mcdsilo_dmesg_0_0x1300_135_200k/linux.mcdsilo.dmesg.0_8_40_0x1300_135_200000\n",
      "Compressing log file..\n",
      "mcdsilo_0_rapl_135/200k_qps/linux_mcdsilo_dmesg_0_0x1300_135_200k/linux.mcdsilo.dmesg.0_8_40_0x1300_135_200000:\t 80.2% -- replaced with mcdsilo_0_rapl_135/200k_qps/linux_mcdsilo_dmesg_0_0x1300_135_200k/linux.mcdsilo.dmesg.0_8_40_0x1300_135_200000.gz\n",
      "Uncompressing log file..\n",
      "mcdsilo_0_rapl_135/200k_qps/linux_mcdsilo_dmesg_0_0x1300_135_200k/linux.mcdsilo.dmesg.0_9_40_0x1300_135_200000.gz:\t 80.2% -- replaced with mcdsilo_0_rapl_135/200k_qps/linux_mcdsilo_dmesg_0_0x1300_135_200k/linux.mcdsilo.dmesg.0_9_40_0x1300_135_200000\n",
      "Compressing log file..\n",
      "mcdsilo_0_rapl_135/200k_qps/linux_mcdsilo_dmesg_0_0x1300_135_200k/linux.mcdsilo.dmesg.0_9_40_0x1300_135_200000:\t 80.2% -- replaced with mcdsilo_0_rapl_135/200k_qps/linux_mcdsilo_dmesg_0_0x1300_135_200k/linux.mcdsilo.dmesg.0_9_40_0x1300_135_200000.gz\n"
     ]
    },
    {
     "name": "stdout",
     "output_type": "stream",
     "text": [
      "Uncompressing merged log files..\n",
      "mcdsilo_0_rapl_135/200k_merged/200k_0x1300_counters_merged/0x1300_200k_40_counters_merged.gz:\t 65.5% -- replaced with mcdsilo_0_rapl_135/200k_merged/200k_0x1300_counters_merged/0x1300_200k_40_counters_merged\n",
      "mcdsilo_0_rapl_135/200k_merged/200k_0x1300_non_counters_merged/0x1300_200k_40_non_counters_merged.gz:\t 73.6% -- replaced with mcdsilo_0_rapl_135/200k_merged/200k_0x1300_non_counters_merged/0x1300_200k_40_non_counters_merged\n",
      "Compressing merged log files..\n",
      "mcdsilo_0_rapl_135/200k_merged/200k_0x1300_counters_merged/0x1300_200k_40_counters_merged:\t 65.5% -- replaced with mcdsilo_0_rapl_135/200k_merged/200k_0x1300_counters_merged/0x1300_200k_40_counters_merged.gz\n",
      "mcdsilo_0_rapl_135/200k_merged/200k_0x1300_non_counters_merged/0x1300_200k_40_non_counters_merged:\t 73.6% -- replaced with mcdsilo_0_rapl_135/200k_merged/200k_0x1300_non_counters_merged/0x1300_200k_40_non_counters_merged.gz\n"
     ]
    },
    {
     "data": {
      "text/plain": [
       "<Figure size 640x480 with 0 Axes>"
      ]
     },
     "metadata": {},
     "output_type": "display_data"
    },
    {
     "data": {
      "image/png": "[encoded data removed]",
      "text/plain": [
       "<Figure size 1000x600 with 1 Axes>"
      ]
     },
     "metadata": {},
     "output_type": "display_data"
    },
    {
     "data": {
      "text/plain": [
       "<Figure size 640x480 with 0 Axes>"
      ]
     },
     "metadata": {},
     "output_type": "display_data"
    }
   ],
   "source": [
    "for dvfs in ['0x1300']:\n",
    "    for qps in ['200k']:\n",
    "        for itr in ['10', '40']:\n",
    "            counters_corr_dict, non_counters_corr_dict = per_core_corr(dvfs, qps, itr, app)\n",
    "            merged_counters_corr, merged_non_counters_corr = merged_core_corr(dvfs, qps, itr, app)\n",
    "            eig_vals = get_eig_vals(cores, counters_corr_dict, non_counters_corr_dict, merged_counters_corr, merged_non_counters_corr)\n",
    "            plot_eig_vals(eig_vals, dvfs, qps, itr, app)"
   ]
  },
  {
   "cell_type": "code",
   "execution_count": null,
   "id": "907e2df3",
   "metadata": {},
   "outputs": [],
   "source": []
  }
 ],
 "metadata": {
  "kernelspec": {
   "display_name": "Python 3 (ipykernel)",
   "language": "python",
   "name": "python3"
  },
  "language_info": {
   "codemirror_mode": {
    "name": "ipython",
    "version": 3
   },
   "file_extension": ".py",
   "mimetype": "text/x-python",
   "name": "python",
   "nbconvert_exporter": "python",
   "pygments_lexer": "ipython3",
   "version": "3.10.12"
  }
 },
 "nbformat": 4,
 "nbformat_minor": 5
}
